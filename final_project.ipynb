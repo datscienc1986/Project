{
  "cells": [
    {
      "cell_type": "markdown",
      "metadata": {
        "id": "view-in-github",
        "colab_type": "text"
      },
      "source": [
        "<a href=\"https://colab.research.google.com/github/datscienc1986/Project/blob/main/final_project.ipynb\" target=\"_parent\"><img src=\"https://colab.research.google.com/assets/colab-badge.svg\" alt=\"Open In Colab\"/></a>"
      ]
    },
    {
      "cell_type": "markdown",
      "metadata": {
        "id": "TMyh_eOTKmeL"
      },
      "source": [
        "# Проект: вариант 2\n",
        "\n",
        "###  Задание 1 A/B–тестирование\n",
        "\n",
        "     1.1 Условие\n",
        "\n",
        "Одной из основных задач аналитика в нашей команде является корректное проведение экспериментов. Для этого мы применяем метод A/B–тестирования. В ходе тестирования одной гипотезы целевой группе была предложена новая механика оплаты услуг на сайте, у контрольной группы оставалась базовая механика. В качестве задания вам необходимо проанализировать итоги эксперимента и сделать вывод, стоит ли запускать новую механику оплаты на всех пользователей.\n",
        "\n",
        "     1.2 Входные данные\n",
        "\n",
        "В качестве входных данных вы имеете 4 csv-файла:\n",
        "\n",
        "- groups.csv – файл с информацией о принадлежности пользователя к контрольной или экспериментальной группе (А – контроль, B – целевая группа)\n",
        "- groups_add.csv – дополнительный файл с пользователями, который вам прислали спустя 2 дня после передачи данных\n",
        "- active_studs.csv – файл с информацией о пользователях, которые зашли на платформу в дни проведения эксперимента.\n",
        "- checks.csv – файл с информацией об оплатах пользователей в дни проведения эксперимента.\n",
        "\n",
        "     1.3 Вопросы\n",
        "\n",
        "Предлагаем вам ответить на следующие вопросы:\n",
        "\n",
        "   - На какие метрики вы смотрите в ходе анализа и почему?\n",
        "   - Имеются ли различия в показателях и с чем они могут быть связаны?\n",
        "   - Являются ли эти различия статистически значимыми?\n",
        "   - Стоит ли запускать новую механику на всех пользователей?\n",
        "   - Данный список вопросов не является обязательным, и вы можете при своём ответе опираться на собственный план.\n",
        "\n",
        "    1.4 Требования к ответу\n",
        "\n",
        "При выполнении тестового задания необходимо использовать язык программирования Python.\n",
        "В файле обязательно должны быть комментарии к тем действиям, которые вы выполняете с данными.\n",
        "Файл должен представлять собой законченный отчёт с выводами, сделанными в ходе исследования.\n",
        "\n",
        "### Задание 2. SQL\n",
        "\n",
        "    2.1 Очень усердные ученики.\n",
        "\n",
        "    - 2.1.1 Условие\n",
        "\n",
        "Образовательные курсы состоят из различных уроков, каждый из которых состоит из нескольких маленьких заданий. Каждое такое маленькое задание называется \"горошиной\".\n",
        "\n",
        "Назовём очень усердным учеником того пользователя, который хотя бы раз за текущий месяц правильно решил 20 горошин.\n",
        "\n",
        "    - 2.1.2 Задача\n",
        "\n",
        "Дана таблица peas:\n",
        "\n",
        "Необходимо написать оптимальный запрос, который даст информацию о количестве очень усердных студентов.NB! Под усердным студентом мы понимаем студента, который правильно решил 20 задач за текущий месяц.\n",
        "\n",
        "    2.2 Оптимизация воронки\n",
        "\n",
        "    - 2.2.1 Условие\n",
        "\n",
        "Образовательная платформа предлагает пройти студентам курсы по модели trial: студент может решить бесплатно лишь 30 горошин в день. Для неограниченного количества заданий в определенной дисциплине студенту необходимо приобрести полный доступ. Команда провела эксперимент, где был протестирован новый экран оплаты.\n",
        "\n",
        "    - 2.2.2 Задача\n",
        "    \n",
        "Необходимо в одном запросе выгрузить следующую информацию о группах пользователей:\n",
        "\n",
        "   - ARPU\n",
        "   - ARPAU\n",
        "   - CR в покупку\n",
        "   - СR активного пользователя в покупку\n",
        "   - CR пользователя из активности по математике (subject = ’math’) в покупку курса по математике\n",
        "    \n",
        "ARPU считается относительно всех пользователей, попавших в группы.\n",
        "Активным считается пользователь, за все время решивший больше 10 задач правильно в любых дисциплинах.\n",
        "Активным по математике считается пользователь, за все время решивший 2 или больше задач правильно по математике.\n",
        "\n",
        "\n",
        "### Задание 3. Python\n",
        "\n",
        "**3.1 Задача**\n",
        "\n",
        "    Реализуйте функцию, которая будет автоматически подгружать информацию из дополнительного файла groups_add.csv (заголовки могут отличаться) и на основании дополнительных параметров пересчитывать метрики.\n",
        "\n",
        "    Реализуйте функцию, которая будет строить графики по получаемым метрикам."
      ]
    },
    {
      "cell_type": "code",
      "source": [
        "from google.colab import drive\n",
        "drive.mount('/content/drive')"
      ],
      "metadata": {
        "colab": {
          "base_uri": "https://localhost:8080/"
        },
        "id": "LUgsEAp_LQtK",
        "outputId": "b542fd88-a6aa-40f3-81c5-ab93d983bd9e"
      },
      "execution_count": 7,
      "outputs": [
        {
          "output_type": "stream",
          "name": "stdout",
          "text": [
            "Drive already mounted at /content/drive; to attempt to forcibly remount, call drive.mount(\"/content/drive\", force_remount=True).\n"
          ]
        }
      ]
    },
    {
      "cell_type": "markdown",
      "metadata": {
        "id": "UPgkeHjjKmeO"
      },
      "source": [
        "## Комментарий:\n",
        "## Т.к. в задании 1 не указано, когда нужно добавлять groups_add, то принято решение, что основной анализ будет делаться без этого файла, а он будет использован только в функции в задании 3"
      ]
    },
    {
      "cell_type": "markdown",
      "metadata": {
        "id": "1wWBWysrKmeP"
      },
      "source": [
        "### Задание 1 A/B–тестирование"
      ]
    },
    {
      "cell_type": "code",
      "execution_count": 8,
      "metadata": {
        "id": "QtIgzJUkKmeP"
      },
      "outputs": [],
      "source": [
        "import pandas as pd\n",
        "import numpy as np\n",
        "import matplotlib.pyplot as plt\n",
        "import seaborn as sns\n",
        "from scipy import stats"
      ]
    },
    {
      "cell_type": "markdown",
      "metadata": {
        "id": "hjPC4c3MKmeQ"
      },
      "source": [
        "**ДАННЫЕ.**\n",
        "\n",
        "    groups.csv        – файл с информацией о принадлежности пользователя к контрольной или экспериментальной группе (А – контроль, B–целевая группа)\n",
        "    groups_add.csv    – дополнительный файл с пользователями, который вам прислали спустя 2 дня после передачи данных\n",
        "    active_studs.csv  – файл с информацией о пользователях, которые зашли на платформу в дни проведения эксперимента.\n",
        "    checks.csv        – файл с информацией об оплатах пользователей в дни проведения эксперимента."
      ]
    },
    {
      "cell_type": "code",
      "execution_count": 9,
      "metadata": {
        "id": "J7BEeig1KmeQ"
      },
      "outputs": [],
      "source": [
        "active_studs=pd.read_csv('/content/drive/MyDrive/Портфолио/Кейс \"Аналитик данных\"/active_studs.csv')\n",
        "checks=pd.read_csv('/content/drive/MyDrive/Портфолио/Кейс \"Аналитик данных\"/checks.csv',sep=';')\n",
        "group_add=pd.read_csv('/content/drive/MyDrive/Портфолио/Кейс \"Аналитик данных\"/group_add.csv')\n",
        "groups=pd.read_csv('/content/drive/MyDrive/Портфолио/Кейс \"Аналитик данных\"/groups.csv',sep=';')"
      ]
    },
    {
      "cell_type": "markdown",
      "metadata": {
        "id": "rb6-_SOKKmeR"
      },
      "source": [
        "Проверим, как выглядят наши данные, есть ли нулевые значения и дубликаты и приведём их к единообразию для объединения"
      ]
    },
    {
      "cell_type": "code",
      "execution_count": 10,
      "metadata": {
        "colab": {
          "base_uri": "https://localhost:8080/"
        },
        "id": "Kniza44VKmeR",
        "outputId": "94e85679-98a2-4bdb-f533-627dc46a2f2b"
      },
      "outputs": [
        {
          "output_type": "stream",
          "name": "stdout",
          "text": [
            "<class 'pandas.core.frame.DataFrame'>\n",
            "RangeIndex: 92 entries, 0 to 91\n",
            "Data columns (total 2 columns):\n",
            " #   Column  Non-Null Count  Dtype \n",
            "---  ------  --------------  ----- \n",
            " 0   id      92 non-null     int64 \n",
            " 1   grp     92 non-null     object\n",
            "dtypes: int64(1), object(1)\n",
            "memory usage: 1.6+ KB\n"
          ]
        }
      ],
      "source": [
        "group_add.info()"
      ]
    },
    {
      "cell_type": "code",
      "execution_count": 11,
      "metadata": {
        "colab": {
          "base_uri": "https://localhost:8080/"
        },
        "id": "8Woh7cOJKmeS",
        "outputId": "ef502d87-82af-4917-9c0b-63692a8b3d37"
      },
      "outputs": [
        {
          "output_type": "stream",
          "name": "stdout",
          "text": [
            "<class 'pandas.core.frame.DataFrame'>\n",
            "RangeIndex: 74484 entries, 0 to 74483\n",
            "Data columns (total 2 columns):\n",
            " #   Column  Non-Null Count  Dtype \n",
            "---  ------  --------------  ----- \n",
            " 0   id      74484 non-null  int64 \n",
            " 1   grp     74484 non-null  object\n",
            "dtypes: int64(1), object(1)\n",
            "memory usage: 1.1+ MB\n"
          ]
        }
      ],
      "source": [
        "groups.info()"
      ]
    },
    {
      "cell_type": "code",
      "execution_count": 12,
      "metadata": {
        "colab": {
          "base_uri": "https://localhost:8080/"
        },
        "id": "mqjEgXRXKmeT",
        "outputId": "c5d27aca-1d57-485e-b0a7-e8b46f2d7e64"
      },
      "outputs": [
        {
          "output_type": "stream",
          "name": "stdout",
          "text": [
            "<class 'pandas.core.frame.DataFrame'>\n",
            "RangeIndex: 8341 entries, 0 to 8340\n",
            "Data columns (total 1 columns):\n",
            " #   Column      Non-Null Count  Dtype\n",
            "---  ------      --------------  -----\n",
            " 0   student_id  8341 non-null   int64\n",
            "dtypes: int64(1)\n",
            "memory usage: 65.3 KB\n"
          ]
        }
      ],
      "source": [
        "active_studs.info()"
      ]
    },
    {
      "cell_type": "code",
      "execution_count": 13,
      "metadata": {
        "colab": {
          "base_uri": "https://localhost:8080/"
        },
        "id": "VMjkeLHgKmeT",
        "outputId": "061d8486-e411-47d7-e8e7-89b158ac5814"
      },
      "outputs": [
        {
          "output_type": "stream",
          "name": "stdout",
          "text": [
            "<class 'pandas.core.frame.DataFrame'>\n",
            "RangeIndex: 541 entries, 0 to 540\n",
            "Data columns (total 2 columns):\n",
            " #   Column      Non-Null Count  Dtype  \n",
            "---  ------      --------------  -----  \n",
            " 0   student_id  541 non-null    int64  \n",
            " 1   rev         541 non-null    float64\n",
            "dtypes: float64(1), int64(1)\n",
            "memory usage: 8.6 KB\n"
          ]
        }
      ],
      "source": [
        "checks.info()"
      ]
    },
    {
      "cell_type": "markdown",
      "metadata": {
        "id": "EhjrcDaUKmeU"
      },
      "source": [
        "Нулевых значений нет"
      ]
    },
    {
      "cell_type": "markdown",
      "metadata": {
        "id": "2tJrqIRxKmeU"
      },
      "source": [
        "Изменяем наименования колонок для единообразия в checks , для дальнейшего объединения данных"
      ]
    },
    {
      "cell_type": "code",
      "execution_count": 14,
      "metadata": {
        "id": "DKbmGymXKmeU"
      },
      "outputs": [],
      "source": [
        "checks=checks.rename(columns={'student_id':'id'})"
      ]
    },
    {
      "cell_type": "code",
      "execution_count": 15,
      "metadata": {
        "id": "2a2X_NwJKmeV"
      },
      "outputs": [],
      "source": [
        "active_studs=active_studs.rename(columns={'student_id':'id'})"
      ]
    },
    {
      "cell_type": "markdown",
      "metadata": {
        "id": "wB7bEKxiKmeV"
      },
      "source": [
        "Проверяем на наличие дубликатов student_id в checks"
      ]
    },
    {
      "cell_type": "code",
      "execution_count": 16,
      "metadata": {
        "colab": {
          "base_uri": "https://localhost:8080/"
        },
        "id": "lhQLOPilKmeV",
        "outputId": "d73b024a-9208-412e-efb4-76babf6e471f"
      },
      "outputs": [
        {
          "output_type": "execute_result",
          "data": {
            "text/plain": [
              "np.int64(0)"
            ]
          },
          "metadata": {},
          "execution_count": 16
        }
      ],
      "source": [
        "checks.id.duplicated().sum()"
      ]
    },
    {
      "cell_type": "markdown",
      "metadata": {
        "id": "UmbDuC5UKmeW"
      },
      "source": [
        "Проверяем на наличие дубликатов id в groups"
      ]
    },
    {
      "cell_type": "code",
      "execution_count": 17,
      "metadata": {
        "colab": {
          "base_uri": "https://localhost:8080/"
        },
        "id": "YHM-7YN9KmeW",
        "outputId": "c7ff22ce-e724-4313-8730-1e9da591bb09"
      },
      "outputs": [
        {
          "output_type": "execute_result",
          "data": {
            "text/plain": [
              "np.int64(0)"
            ]
          },
          "metadata": {},
          "execution_count": 17
        }
      ],
      "source": [
        "groups.id.duplicated().sum()"
      ]
    },
    {
      "cell_type": "markdown",
      "metadata": {
        "id": "k8abIfeaKmeW"
      },
      "source": [
        "Проверяем на наличие дубликатов id в group_add"
      ]
    },
    {
      "cell_type": "code",
      "execution_count": 18,
      "metadata": {
        "colab": {
          "base_uri": "https://localhost:8080/"
        },
        "id": "ruK1bsIWKmeX",
        "outputId": "c6e9f9e1-b46a-4429-bce2-0647168ec931"
      },
      "outputs": [
        {
          "output_type": "execute_result",
          "data": {
            "text/plain": [
              "np.int64(0)"
            ]
          },
          "metadata": {},
          "execution_count": 18
        }
      ],
      "source": [
        "group_add.id.duplicated().sum()"
      ]
    },
    {
      "cell_type": "markdown",
      "metadata": {
        "id": "TyBczmdBKmeX"
      },
      "source": [
        "Проверяем на наличие одинаковых id в groups и  group_add"
      ]
    },
    {
      "cell_type": "code",
      "execution_count": 19,
      "metadata": {
        "id": "HofSkbHqKmeX"
      },
      "outputs": [],
      "source": [
        "duble_groups_group_add = groups.merge(group_add, on='id', how='outer', suffixes=['', 'ADD'], indicator=True)"
      ]
    },
    {
      "cell_type": "code",
      "execution_count": 20,
      "metadata": {
        "colab": {
          "base_uri": "https://localhost:8080/",
          "height": 53
        },
        "id": "o4XfBUMlKmeY",
        "outputId": "c81d28b4-a7b4-40d3-e940-0ebedfe384b7"
      },
      "outputs": [
        {
          "output_type": "execute_result",
          "data": {
            "text/plain": [
              "Empty DataFrame\n",
              "Columns: [id, grp, grpADD, _merge]\n",
              "Index: []"
            ],
            "text/html": [
              "\n",
              "  <div id=\"df-a20d97a1-c75a-4c7e-9a6f-5e6c5ca6d3b9\" class=\"colab-df-container\">\n",
              "    <div>\n",
              "<style scoped>\n",
              "    .dataframe tbody tr th:only-of-type {\n",
              "        vertical-align: middle;\n",
              "    }\n",
              "\n",
              "    .dataframe tbody tr th {\n",
              "        vertical-align: top;\n",
              "    }\n",
              "\n",
              "    .dataframe thead th {\n",
              "        text-align: right;\n",
              "    }\n",
              "</style>\n",
              "<table border=\"1\" class=\"dataframe\">\n",
              "  <thead>\n",
              "    <tr style=\"text-align: right;\">\n",
              "      <th></th>\n",
              "      <th>id</th>\n",
              "      <th>grp</th>\n",
              "      <th>grpADD</th>\n",
              "      <th>_merge</th>\n",
              "    </tr>\n",
              "  </thead>\n",
              "  <tbody>\n",
              "  </tbody>\n",
              "</table>\n",
              "</div>\n",
              "    <div class=\"colab-df-buttons\">\n",
              "\n",
              "  <div class=\"colab-df-container\">\n",
              "    <button class=\"colab-df-convert\" onclick=\"convertToInteractive('df-a20d97a1-c75a-4c7e-9a6f-5e6c5ca6d3b9')\"\n",
              "            title=\"Convert this dataframe to an interactive table.\"\n",
              "            style=\"display:none;\">\n",
              "\n",
              "  <svg xmlns=\"http://www.w3.org/2000/svg\" height=\"24px\" viewBox=\"0 -960 960 960\">\n",
              "    <path d=\"M120-120v-720h720v720H120Zm60-500h600v-160H180v160Zm220 220h160v-160H400v160Zm0 220h160v-160H400v160ZM180-400h160v-160H180v160Zm440 0h160v-160H620v160ZM180-180h160v-160H180v160Zm440 0h160v-160H620v160Z\"/>\n",
              "  </svg>\n",
              "    </button>\n",
              "\n",
              "  <style>\n",
              "    .colab-df-container {\n",
              "      display:flex;\n",
              "      gap: 12px;\n",
              "    }\n",
              "\n",
              "    .colab-df-convert {\n",
              "      background-color: #E8F0FE;\n",
              "      border: none;\n",
              "      border-radius: 50%;\n",
              "      cursor: pointer;\n",
              "      display: none;\n",
              "      fill: #1967D2;\n",
              "      height: 32px;\n",
              "      padding: 0 0 0 0;\n",
              "      width: 32px;\n",
              "    }\n",
              "\n",
              "    .colab-df-convert:hover {\n",
              "      background-color: #E2EBFA;\n",
              "      box-shadow: 0px 1px 2px rgba(60, 64, 67, 0.3), 0px 1px 3px 1px rgba(60, 64, 67, 0.15);\n",
              "      fill: #174EA6;\n",
              "    }\n",
              "\n",
              "    .colab-df-buttons div {\n",
              "      margin-bottom: 4px;\n",
              "    }\n",
              "\n",
              "    [theme=dark] .colab-df-convert {\n",
              "      background-color: #3B4455;\n",
              "      fill: #D2E3FC;\n",
              "    }\n",
              "\n",
              "    [theme=dark] .colab-df-convert:hover {\n",
              "      background-color: #434B5C;\n",
              "      box-shadow: 0px 1px 3px 1px rgba(0, 0, 0, 0.15);\n",
              "      filter: drop-shadow(0px 1px 2px rgba(0, 0, 0, 0.3));\n",
              "      fill: #FFFFFF;\n",
              "    }\n",
              "  </style>\n",
              "\n",
              "    <script>\n",
              "      const buttonEl =\n",
              "        document.querySelector('#df-a20d97a1-c75a-4c7e-9a6f-5e6c5ca6d3b9 button.colab-df-convert');\n",
              "      buttonEl.style.display =\n",
              "        google.colab.kernel.accessAllowed ? 'block' : 'none';\n",
              "\n",
              "      async function convertToInteractive(key) {\n",
              "        const element = document.querySelector('#df-a20d97a1-c75a-4c7e-9a6f-5e6c5ca6d3b9');\n",
              "        const dataTable =\n",
              "          await google.colab.kernel.invokeFunction('convertToInteractive',\n",
              "                                                    [key], {});\n",
              "        if (!dataTable) return;\n",
              "\n",
              "        const docLinkHtml = 'Like what you see? Visit the ' +\n",
              "          '<a target=\"_blank\" href=https://colab.research.google.com/notebooks/data_table.ipynb>data table notebook</a>'\n",
              "          + ' to learn more about interactive tables.';\n",
              "        element.innerHTML = '';\n",
              "        dataTable['output_type'] = 'display_data';\n",
              "        await google.colab.output.renderOutput(dataTable, element);\n",
              "        const docLink = document.createElement('div');\n",
              "        docLink.innerHTML = docLinkHtml;\n",
              "        element.appendChild(docLink);\n",
              "      }\n",
              "    </script>\n",
              "  </div>\n",
              "\n",
              "    </div>\n",
              "  </div>\n"
            ],
            "application/vnd.google.colaboratory.intrinsic+json": {
              "type": "dataframe",
              "repr_error": "Out of range float values are not JSON compliant: nan"
            }
          },
          "metadata": {},
          "execution_count": 20
        }
      ],
      "source": [
        "duble_groups_group_add[duble_groups_group_add['_merge']=='both']"
      ]
    },
    {
      "cell_type": "markdown",
      "metadata": {
        "id": "5yQO3YLFKmeY"
      },
      "source": [
        "**Дубликатов в данных нет**"
      ]
    },
    {
      "cell_type": "markdown",
      "metadata": {
        "id": "GoQfGM9SKmeY"
      },
      "source": [
        "Объединяем датафреймы"
      ]
    },
    {
      "cell_type": "code",
      "execution_count": 21,
      "metadata": {
        "id": "Urw10NRVKmeY"
      },
      "outputs": [],
      "source": [
        "df_all=groups.merge(active_studs,on='id',how='outer',indicator=True)"
      ]
    },
    {
      "cell_type": "markdown",
      "metadata": {
        "id": "cPMZij_fKmeZ"
      },
      "source": [
        "Смотрим, какие id есть во фрейме active_studs (пользователи, которые зашли на платформу),  но их нет во фрейме groups\n",
        "Значит есть пользователи, которые были активными, но не попали ни в одну из групп для анализа."
      ]
    },
    {
      "cell_type": "code",
      "execution_count": 22,
      "metadata": {
        "colab": {
          "base_uri": "https://localhost:8080/",
          "height": 492
        },
        "id": "kMDjzzd7KmeZ",
        "outputId": "0e326835-5bd7-4e0b-85a3-344a97670124"
      },
      "outputs": [
        {
          "output_type": "execute_result",
          "data": {
            "text/plain": [
              "74484    5700613\n",
              "74485    5723133\n",
              "74486    5723648\n",
              "74487    5728431\n",
              "74488    5729371\n",
              "74489    5730382\n",
              "74490    5739944\n",
              "74491    5740903\n",
              "74492    5760471\n",
              "74493    5777081\n",
              "74494    5870856\n",
              "74495    5945085\n",
              "74496    5951797\n",
              "Name: id, dtype: int64"
            ],
            "text/html": [
              "<div>\n",
              "<style scoped>\n",
              "    .dataframe tbody tr th:only-of-type {\n",
              "        vertical-align: middle;\n",
              "    }\n",
              "\n",
              "    .dataframe tbody tr th {\n",
              "        vertical-align: top;\n",
              "    }\n",
              "\n",
              "    .dataframe thead th {\n",
              "        text-align: right;\n",
              "    }\n",
              "</style>\n",
              "<table border=\"1\" class=\"dataframe\">\n",
              "  <thead>\n",
              "    <tr style=\"text-align: right;\">\n",
              "      <th></th>\n",
              "      <th>id</th>\n",
              "    </tr>\n",
              "  </thead>\n",
              "  <tbody>\n",
              "    <tr>\n",
              "      <th>74484</th>\n",
              "      <td>5700613</td>\n",
              "    </tr>\n",
              "    <tr>\n",
              "      <th>74485</th>\n",
              "      <td>5723133</td>\n",
              "    </tr>\n",
              "    <tr>\n",
              "      <th>74486</th>\n",
              "      <td>5723648</td>\n",
              "    </tr>\n",
              "    <tr>\n",
              "      <th>74487</th>\n",
              "      <td>5728431</td>\n",
              "    </tr>\n",
              "    <tr>\n",
              "      <th>74488</th>\n",
              "      <td>5729371</td>\n",
              "    </tr>\n",
              "    <tr>\n",
              "      <th>74489</th>\n",
              "      <td>5730382</td>\n",
              "    </tr>\n",
              "    <tr>\n",
              "      <th>74490</th>\n",
              "      <td>5739944</td>\n",
              "    </tr>\n",
              "    <tr>\n",
              "      <th>74491</th>\n",
              "      <td>5740903</td>\n",
              "    </tr>\n",
              "    <tr>\n",
              "      <th>74492</th>\n",
              "      <td>5760471</td>\n",
              "    </tr>\n",
              "    <tr>\n",
              "      <th>74493</th>\n",
              "      <td>5777081</td>\n",
              "    </tr>\n",
              "    <tr>\n",
              "      <th>74494</th>\n",
              "      <td>5870856</td>\n",
              "    </tr>\n",
              "    <tr>\n",
              "      <th>74495</th>\n",
              "      <td>5945085</td>\n",
              "    </tr>\n",
              "    <tr>\n",
              "      <th>74496</th>\n",
              "      <td>5951797</td>\n",
              "    </tr>\n",
              "  </tbody>\n",
              "</table>\n",
              "</div><br><label><b>dtype:</b> int64</label>"
            ]
          },
          "metadata": {},
          "execution_count": 22
        }
      ],
      "source": [
        "df_all[df_all['_merge']=='right_only']['id']"
      ]
    },
    {
      "cell_type": "markdown",
      "metadata": {
        "id": "EKeqWjJXKmeZ"
      },
      "source": [
        "Есть пользователь. который был активным, оплатил , но не вошёл в группы для анализа"
      ]
    },
    {
      "cell_type": "code",
      "execution_count": 23,
      "metadata": {
        "colab": {
          "base_uri": "https://localhost:8080/",
          "height": 115
        },
        "id": "Cf049FPkKmea",
        "outputId": "91e99480-756d-48d9-c3e5-fc3dcc316dfd"
      },
      "outputs": [
        {
          "output_type": "execute_result",
          "data": {
            "text/plain": [
              "540    5740903\n",
              "Name: id, dtype: int64"
            ],
            "text/html": [
              "<div>\n",
              "<style scoped>\n",
              "    .dataframe tbody tr th:only-of-type {\n",
              "        vertical-align: middle;\n",
              "    }\n",
              "\n",
              "    .dataframe tbody tr th {\n",
              "        vertical-align: top;\n",
              "    }\n",
              "\n",
              "    .dataframe thead th {\n",
              "        text-align: right;\n",
              "    }\n",
              "</style>\n",
              "<table border=\"1\" class=\"dataframe\">\n",
              "  <thead>\n",
              "    <tr style=\"text-align: right;\">\n",
              "      <th></th>\n",
              "      <th>id</th>\n",
              "    </tr>\n",
              "  </thead>\n",
              "  <tbody>\n",
              "    <tr>\n",
              "      <th>540</th>\n",
              "      <td>5740903</td>\n",
              "    </tr>\n",
              "  </tbody>\n",
              "</table>\n",
              "</div><br><label><b>dtype:</b> int64</label>"
            ]
          },
          "metadata": {},
          "execution_count": 23
        }
      ],
      "source": [
        "checks[checks['id'].isin(df_all[df_all['_merge']=='right_only']['id'])==True]['id']"
      ]
    },
    {
      "cell_type": "markdown",
      "metadata": {
        "id": "KRDpQ0R4Kmea"
      },
      "source": [
        "Объединяем датафрейм с пользователями из эксперимента и активными пользователями, чтобы выявить, есть ли активные пользователи, не входящие в экмперимент"
      ]
    },
    {
      "cell_type": "code",
      "execution_count": 24,
      "metadata": {
        "id": "DrPta91dKmea"
      },
      "outputs": [],
      "source": [
        "df_users_in_group=groups.merge(active_studs, on='id', how='outer', indicator=True)"
      ]
    },
    {
      "cell_type": "markdown",
      "metadata": {
        "id": "WWOwIfTbKmeb"
      },
      "source": [
        "создадим датафрейм, где все пользователи, которые есть в группе по тестированию,не зависимо, заходили в систему(active) или нет(no_active)"
      ]
    },
    {
      "cell_type": "code",
      "execution_count": 25,
      "metadata": {
        "id": "9GV_klGBKmeb"
      },
      "outputs": [],
      "source": [
        "df_active_users_in_group=df_users_in_group[df_users_in_group['_merge']!='right_only']"
      ]
    },
    {
      "cell_type": "markdown",
      "metadata": {
        "id": "Avca59PpKmeb"
      },
      "source": [
        "Посмотрим пользователей активных, которые есть в группе по эксперименту и заходили в систему"
      ]
    },
    {
      "cell_type": "code",
      "execution_count": 26,
      "metadata": {
        "colab": {
          "base_uri": "https://localhost:8080/"
        },
        "id": "DkwLD9hIKmec",
        "outputId": "85f393f4-b1da-42df-cdc3-937201383979"
      },
      "outputs": [
        {
          "output_type": "execute_result",
          "data": {
            "text/plain": [
              "(8328, 3)"
            ]
          },
          "metadata": {},
          "execution_count": 26
        }
      ],
      "source": [
        "df_active_users_in_group[df_active_users_in_group['_merge']=='both'].shape"
      ]
    },
    {
      "cell_type": "markdown",
      "metadata": {
        "id": "0xc2pnjsKmec"
      },
      "source": [
        "Переименнуем название колонки _merge в status"
      ]
    },
    {
      "cell_type": "code",
      "execution_count": 27,
      "metadata": {
        "id": "KNxlENg1Kmec"
      },
      "outputs": [],
      "source": [
        "df_active_users_in_group=df_active_users_in_group.rename(columns={'_merge':'status'})"
      ]
    },
    {
      "cell_type": "markdown",
      "metadata": {
        "id": "7Oe3He2aKmeh"
      },
      "source": [
        "Заменим значения в колонке status (left_only':'no_active')('both':'active').\n",
        "теперь мы видим активных и не активных пользователей в группах"
      ]
    },
    {
      "cell_type": "code",
      "execution_count": 28,
      "metadata": {
        "id": "WTW02JTwKmeh"
      },
      "outputs": [],
      "source": [
        "df_active_users_in_group['status']=np.where(df_active_users_in_group['status']=='left_only','no_active','active')"
      ]
    },
    {
      "cell_type": "code",
      "execution_count": 29,
      "metadata": {
        "colab": {
          "base_uri": "https://localhost:8080/"
        },
        "id": "w0NxGEyFKmei",
        "outputId": "a266181b-4fda-4bb6-fdb8-086c2e0305ab"
      },
      "outputs": [
        {
          "output_type": "execute_result",
          "data": {
            "text/plain": [
              "(66156, 3)"
            ]
          },
          "metadata": {},
          "execution_count": 29
        }
      ],
      "source": [
        "df_active_users_in_group[df_active_users_in_group['status']=='no_active'].shape"
      ]
    },
    {
      "cell_type": "markdown",
      "metadata": {
        "id": "D7c2YyZeKmei"
      },
      "source": [
        "Добавляем к пользователям, которые учавствуют в эксперименте оплаты"
      ]
    },
    {
      "cell_type": "code",
      "execution_count": 30,
      "metadata": {
        "id": "1l8YhnniKmei"
      },
      "outputs": [],
      "source": [
        "df_active_users_in_group=df_active_users_in_group.merge(checks,on='id',how='left')"
      ]
    },
    {
      "cell_type": "markdown",
      "metadata": {
        "id": "vEMpEILJKmei"
      },
      "source": [
        "Проверим, как ведут себя пользователи в группах(оплатили-не зашли, оплатили-зашли, не оплатили-зашли, не оплатили-не зашли)"
      ]
    },
    {
      "cell_type": "code",
      "execution_count": 31,
      "metadata": {
        "colab": {
          "base_uri": "https://localhost:8080/"
        },
        "id": "jgHLTG1MKmei",
        "outputId": "cca834ed-7e3a-4c0c-c97b-2e518cf41335"
      },
      "outputs": [
        {
          "output_type": "execute_result",
          "data": {
            "text/plain": [
              "(66156, 4)"
            ]
          },
          "metadata": {},
          "execution_count": 31
        }
      ],
      "source": [
        "df_active_users_in_group[(df_active_users_in_group['status']=='no_active')].shape"
      ]
    },
    {
      "cell_type": "code",
      "execution_count": 32,
      "metadata": {
        "id": "mi4n2DkiKmej"
      },
      "outputs": [],
      "source": [
        "#(149 пользователей    оплатили и не зашли в систему) Их необходимо убрать из данных, т.к. они не должны были попасть в эксперимент\n",
        "#(391 пользователь     оплатил и зашёл в систему)\n",
        "#(7937 пользователя    не оплатили и зашли в систему)\n",
        "#(66007 пользователя   не оплатили и не зашли в систему)"
      ]
    },
    {
      "cell_type": "code",
      "execution_count": 33,
      "metadata": {
        "colab": {
          "base_uri": "https://localhost:8080/"
        },
        "id": "hfVuaUAhKmej",
        "outputId": "7e17d749-7928-4118-b307-230142b133d4"
      },
      "outputs": [
        {
          "output_type": "execute_result",
          "data": {
            "text/plain": [
              "(149, 4)"
            ]
          },
          "metadata": {},
          "execution_count": 33
        }
      ],
      "source": [
        "df_active_users_in_group[(df_active_users_in_group['status']=='no_active')&(df_active_users_in_group['rev'].isna()==False)].shape"
      ]
    },
    {
      "cell_type": "code",
      "execution_count": 34,
      "metadata": {
        "colab": {
          "base_uri": "https://localhost:8080/"
        },
        "id": "lrUINYi0Kmej",
        "outputId": "a0d190d8-457b-443d-ba56-14ce950f9c8a"
      },
      "outputs": [
        {
          "output_type": "execute_result",
          "data": {
            "text/plain": [
              "(7937, 4)"
            ]
          },
          "metadata": {},
          "execution_count": 34
        }
      ],
      "source": [
        "df_active_users_in_group[(df_active_users_in_group['status']=='active')&(df_active_users_in_group['rev'].isna()==True)].shape"
      ]
    },
    {
      "cell_type": "code",
      "execution_count": 35,
      "metadata": {
        "colab": {
          "base_uri": "https://localhost:8080/"
        },
        "id": "UEKgIyiPKmej",
        "outputId": "4f037074-697f-4507-f611-d3ab3f6f07cb"
      },
      "outputs": [
        {
          "output_type": "execute_result",
          "data": {
            "text/plain": [
              "(391, 4)"
            ]
          },
          "metadata": {},
          "execution_count": 35
        }
      ],
      "source": [
        "df_active_users_in_group[(df_active_users_in_group['status']=='active')&(df_active_users_in_group['rev'].isna()==False)].shape"
      ]
    },
    {
      "cell_type": "code",
      "execution_count": 36,
      "metadata": {
        "colab": {
          "base_uri": "https://localhost:8080/"
        },
        "id": "b78BNRLiKmej",
        "outputId": "9e8ea70a-fa01-45b5-a394-187aef4b2534"
      },
      "outputs": [
        {
          "output_type": "execute_result",
          "data": {
            "text/plain": [
              "(66007, 4)"
            ]
          },
          "metadata": {},
          "execution_count": 36
        }
      ],
      "source": [
        "df_active_users_in_group[(df_active_users_in_group['status']=='no_active')&(df_active_users_in_group['rev'].isna()==True)].shape"
      ]
    },
    {
      "cell_type": "markdown",
      "metadata": {
        "id": "nwk0563LKmek"
      },
      "source": [
        "Оставляем только активных пользователей, т.к. они видели новую механику оплаты"
      ]
    },
    {
      "cell_type": "code",
      "execution_count": 37,
      "metadata": {
        "id": "qui1oQ9dKmek"
      },
      "outputs": [],
      "source": [
        "df_active_users_in_group=df_active_users_in_group[df_active_users_in_group['status']=='active']"
      ]
    },
    {
      "cell_type": "markdown",
      "metadata": {
        "id": "XBpaVwm2Kmek"
      },
      "source": [
        "## Метрики:\n",
        "\n",
        "- выручка - показывает распределение выручки в каждой группе\n",
        "- ARPU - сколько пользователь в среднем тратит за определённый период времени. Представляет собой выручку, полученную от клиента за определённый период времени, обычно за месяц 1. Для расчёта метрики берут в учёт всю аудиторию, а не только покупателей)\n",
        "- ARPPU - средний доход с платящего пользователя, фокусируется исключительно на клиентах, совершивших покупку. Показатель учитывает только тех, кто произвёл покупку или совершил платёж\n",
        "- cr to pay - коэффициент конверсии в платящих пользователей (CR to Pay или Conversion Rate to Paying Users) — это метрика, которая показывает, какой процент пользователей, взаимодействующих с вашим продуктом или услугой, становится платящими.\n",
        "\n",
        "Чтобы понять, насколько продуктивна новая механика, необходимо рассчитать ARPPU и ARPU и CR_to_pay\n"
      ]
    },
    {
      "cell_type": "markdown",
      "metadata": {
        "id": "5KfIFO0nKmek"
      },
      "source": [
        "### ARPU\n",
        "\n",
        "сколько пользователь в среднем тратит за определённый период времени. Представляет собой выручку, полученную от клиента за определённый период времени, обычно за месяц 1."
      ]
    },
    {
      "cell_type": "code",
      "execution_count": 38,
      "metadata": {
        "id": "k66xp7hVKmek"
      },
      "outputs": [],
      "source": [
        "arpu_A=df_active_users_in_group[df_active_users_in_group['grp']=='A']['rev'].sum()\\\n",
        "  /len(df_active_users_in_group[df_active_users_in_group['grp']=='A'])"
      ]
    },
    {
      "cell_type": "code",
      "execution_count": 39,
      "metadata": {
        "id": "JrNlhUCJKmel"
      },
      "outputs": [],
      "source": [
        "arpu_B=df_active_users_in_group[df_active_users_in_group['grp']=='B']['rev'].sum()\\\n",
        "  /len(df_active_users_in_group[df_active_users_in_group['grp']=='B'])"
      ]
    },
    {
      "cell_type": "code",
      "execution_count": 40,
      "metadata": {
        "colab": {
          "base_uri": "https://localhost:8080/"
        },
        "id": "p4FQHaCiKmel",
        "outputId": "c933f915-5901-4e96-fdeb-1ba37fb6ca51"
      },
      "outputs": [
        {
          "output_type": "stream",
          "name": "stdout",
          "text": [
            "47.43973941368078 57.86456698071545\n"
          ]
        }
      ],
      "source": [
        "print(arpu_A,arpu_B)\n"
      ]
    },
    {
      "cell_type": "code",
      "execution_count": 41,
      "metadata": {
        "colab": {
          "base_uri": "https://localhost:8080/",
          "height": 474
        },
        "id": "raUH_9mtKmel",
        "outputId": "2f1074fc-e68c-4e71-fd7f-a545412b2ef2"
      },
      "outputs": [
        {
          "output_type": "display_data",
          "data": {
            "text/plain": [
              "<Figure size 640x480 with 1 Axes>"
            ],
            "image/png": "[encoded data removed]"
          },
          "metadata": {}
        }
      ],
      "source": [
        "sns.barplot(x='grp', y='arpu', data=pd.DataFrame([['arpu_A',arpu_A],['arpu_B',arpu_B]], columns=['grp', 'arpu']))\n",
        "plt.title('ARPU', fontsize=16);"
      ]
    },
    {
      "cell_type": "markdown",
      "metadata": {
        "id": "czGgglTBKmel"
      },
      "source": [
        "### ARPPU\n",
        "\n",
        "средний доход с платящего пользователя, фокусируется исключительно на клиентах, совершивших покупку.\n",
        "Показатель учитывает только тех, кто произвёл покупку или совершил платёж"
      ]
    },
    {
      "cell_type": "code",
      "execution_count": 42,
      "metadata": {
        "id": "kX8GGZNFKmem"
      },
      "outputs": [],
      "source": [
        "arppu_A=df_active_users_in_group\\\n",
        "     [(df_active_users_in_group['grp']=='A')&(df_active_users_in_group['rev'].isna()==False)]['rev'].sum()\\\n",
        "  /len(df_active_users_in_group\\\n",
        "     [(df_active_users_in_group['grp']=='A')&(df_active_users_in_group['rev'].isna()==False)])"
      ]
    },
    {
      "cell_type": "code",
      "execution_count": 43,
      "metadata": {
        "id": "klIHeHUlKmem"
      },
      "outputs": [],
      "source": [
        "arppu_B=df_active_users_in_group\\\n",
        "     [(df_active_users_in_group['grp']=='B')&(df_active_users_in_group['rev'].isna()==False)]['rev'].sum()\\\n",
        "  /len(df_active_users_in_group\\\n",
        "     [(df_active_users_in_group['grp']=='B')&(df_active_users_in_group['rev'].isna()==False)])"
      ]
    },
    {
      "cell_type": "code",
      "execution_count": 44,
      "metadata": {
        "colab": {
          "base_uri": "https://localhost:8080/"
        },
        "id": "_v3lv3j3Kmem",
        "outputId": "f99cd387-bd12-4014-f569-76f9b934f720"
      },
      "outputs": [
        {
          "output_type": "stream",
          "name": "stdout",
          "text": [
            "arppu_A=933.5897435897435, arppu_B=1255.8274872204472\n"
          ]
        }
      ],
      "source": [
        "print(f'arppu_A={arppu_A}, arppu_B={arppu_B}')"
      ]
    },
    {
      "cell_type": "code",
      "execution_count": 45,
      "metadata": {
        "colab": {
          "base_uri": "https://localhost:8080/",
          "height": 474
        },
        "id": "3yEc1444Kmem",
        "outputId": "9763cb3a-1c88-4687-d94a-1a7ff039fd41"
      },
      "outputs": [
        {
          "output_type": "display_data",
          "data": {
            "text/plain": [
              "<Figure size 640x480 with 1 Axes>"
            ],
            "image/png": "[encoded data removed]"
          },
          "metadata": {}
        }
      ],
      "source": [
        "sns.barplot(x='grp', y='arppu', data=pd.DataFrame([['arppu_A',arppu_A],['arppu_B',arppu_B]], columns=['grp', 'arppu']))\n",
        "plt.title('ARPPU', fontsize=16);"
      ]
    },
    {
      "cell_type": "markdown",
      "metadata": {
        "id": "SBJNjIJMKmem"
      },
      "source": [
        "### cr_to_pay"
      ]
    },
    {
      "cell_type": "code",
      "execution_count": 46,
      "metadata": {
        "id": "vaHRctT-Kmen"
      },
      "outputs": [],
      "source": [
        "cr_to_pay_A=(len(df_active_users_in_group[(df_active_users_in_group['grp']=='A')&\\\n",
        "                                          (df_active_users_in_group['rev'].isna()==False)])\\\n",
        "             /len(df_active_users_in_group[(df_active_users_in_group['grp']=='A')]))*100"
      ]
    },
    {
      "cell_type": "code",
      "execution_count": 47,
      "metadata": {
        "id": "Hr2972zRKmen"
      },
      "outputs": [],
      "source": [
        "cr_to_pay_B=(len(df_active_users_in_group[(df_active_users_in_group['grp']=='B')&\\\n",
        "                                          (df_active_users_in_group['rev'].isna()==False)])\\\n",
        "             /len(df_active_users_in_group[(df_active_users_in_group['grp']=='B')]))*100"
      ]
    },
    {
      "cell_type": "code",
      "execution_count": 48,
      "metadata": {
        "colab": {
          "base_uri": "https://localhost:8080/"
        },
        "id": "UtydOBOEKmen",
        "outputId": "35f6e11c-e231-4091-e2c5-9708cc4ea070"
      },
      "outputs": [
        {
          "output_type": "stream",
          "name": "stdout",
          "text": [
            "5.081433224755701 4.607684380980421\n"
          ]
        }
      ],
      "source": [
        "print(cr_to_pay_A,cr_to_pay_B)"
      ]
    },
    {
      "cell_type": "code",
      "execution_count": 49,
      "metadata": {
        "colab": {
          "base_uri": "https://localhost:8080/",
          "height": 449
        },
        "id": "YZizJE27Kmen",
        "outputId": "46af529e-b1c0-4410-99f8-45020380feb2"
      },
      "outputs": [
        {
          "output_type": "display_data",
          "data": {
            "text/plain": [
              "<Figure size 640x480 with 1 Axes>"
            ],
            "image/png": "[encoded data removed]"
          },
          "metadata": {}
        }
      ],
      "source": [
        "sns.barplot(x='grp', y='cr_to_pay', \\\n",
        "            data=pd.DataFrame([['cr_to_pay_A',cr_to_pay_A],['cr_to_pay_B',cr_to_pay_B]], columns=['grp', 'cr_to_pay']));"
      ]
    },
    {
      "cell_type": "markdown",
      "metadata": {
        "id": "X30VmhDRKmen"
      },
      "source": [
        "**CR to Pay в группе B ниже, чем в группе A**"
      ]
    },
    {
      "cell_type": "markdown",
      "metadata": {
        "id": "5TaQRAjaKmeo"
      },
      "source": [
        "### Сравним статистику доходов по группам c активными пользователями"
      ]
    },
    {
      "cell_type": "code",
      "execution_count": 50,
      "metadata": {
        "colab": {
          "base_uri": "https://localhost:8080/",
          "height": 335
        },
        "id": "WQH1LQsGKmeo",
        "outputId": "1f004b53-3faa-4fb4-854d-5fbdd8f401a6"
      },
      "outputs": [
        {
          "output_type": "execute_result",
          "data": {
            "text/plain": [
              "count      78.000000\n",
              "mean      933.589744\n",
              "std       919.932711\n",
              "min       199.000000\n",
              "25%       290.000000\n",
              "50%       585.000000\n",
              "75%      1114.750000\n",
              "max      3660.000000\n",
              "Name: rev, dtype: float64"
            ],
            "text/html": [
              "<div>\n",
              "<style scoped>\n",
              "    .dataframe tbody tr th:only-of-type {\n",
              "        vertical-align: middle;\n",
              "    }\n",
              "\n",
              "    .dataframe tbody tr th {\n",
              "        vertical-align: top;\n",
              "    }\n",
              "\n",
              "    .dataframe thead th {\n",
              "        text-align: right;\n",
              "    }\n",
              "</style>\n",
              "<table border=\"1\" class=\"dataframe\">\n",
              "  <thead>\n",
              "    <tr style=\"text-align: right;\">\n",
              "      <th></th>\n",
              "      <th>rev</th>\n",
              "    </tr>\n",
              "  </thead>\n",
              "  <tbody>\n",
              "    <tr>\n",
              "      <th>count</th>\n",
              "      <td>78.000000</td>\n",
              "    </tr>\n",
              "    <tr>\n",
              "      <th>mean</th>\n",
              "      <td>933.589744</td>\n",
              "    </tr>\n",
              "    <tr>\n",
              "      <th>std</th>\n",
              "      <td>919.932711</td>\n",
              "    </tr>\n",
              "    <tr>\n",
              "      <th>min</th>\n",
              "      <td>199.000000</td>\n",
              "    </tr>\n",
              "    <tr>\n",
              "      <th>25%</th>\n",
              "      <td>290.000000</td>\n",
              "    </tr>\n",
              "    <tr>\n",
              "      <th>50%</th>\n",
              "      <td>585.000000</td>\n",
              "    </tr>\n",
              "    <tr>\n",
              "      <th>75%</th>\n",
              "      <td>1114.750000</td>\n",
              "    </tr>\n",
              "    <tr>\n",
              "      <th>max</th>\n",
              "      <td>3660.000000</td>\n",
              "    </tr>\n",
              "  </tbody>\n",
              "</table>\n",
              "</div><br><label><b>dtype:</b> float64</label>"
            ]
          },
          "metadata": {},
          "execution_count": 50
        }
      ],
      "source": [
        "df_active_users_in_group[(df_active_users_in_group['grp']=='A')]['rev'].describe()"
      ]
    },
    {
      "cell_type": "code",
      "execution_count": 51,
      "metadata": {
        "colab": {
          "base_uri": "https://localhost:8080/",
          "height": 335
        },
        "id": "8XiZJncWKmeo",
        "outputId": "7d962f49-fd22-434a-e768-729207a5203a"
      },
      "outputs": [
        {
          "output_type": "execute_result",
          "data": {
            "text/plain": [
              "count     313.000000\n",
              "mean     1255.827487\n",
              "std       791.293377\n",
              "min       199.000000\n",
              "25%       489.000000\n",
              "50%      1140.000000\n",
              "75%      1900.000000\n",
              "max      4650.000000\n",
              "Name: rev, dtype: float64"
            ],
            "text/html": [
              "<div>\n",
              "<style scoped>\n",
              "    .dataframe tbody tr th:only-of-type {\n",
              "        vertical-align: middle;\n",
              "    }\n",
              "\n",
              "    .dataframe tbody tr th {\n",
              "        vertical-align: top;\n",
              "    }\n",
              "\n",
              "    .dataframe thead th {\n",
              "        text-align: right;\n",
              "    }\n",
              "</style>\n",
              "<table border=\"1\" class=\"dataframe\">\n",
              "  <thead>\n",
              "    <tr style=\"text-align: right;\">\n",
              "      <th></th>\n",
              "      <th>rev</th>\n",
              "    </tr>\n",
              "  </thead>\n",
              "  <tbody>\n",
              "    <tr>\n",
              "      <th>count</th>\n",
              "      <td>313.000000</td>\n",
              "    </tr>\n",
              "    <tr>\n",
              "      <th>mean</th>\n",
              "      <td>1255.827487</td>\n",
              "    </tr>\n",
              "    <tr>\n",
              "      <th>std</th>\n",
              "      <td>791.293377</td>\n",
              "    </tr>\n",
              "    <tr>\n",
              "      <th>min</th>\n",
              "      <td>199.000000</td>\n",
              "    </tr>\n",
              "    <tr>\n",
              "      <th>25%</th>\n",
              "      <td>489.000000</td>\n",
              "    </tr>\n",
              "    <tr>\n",
              "      <th>50%</th>\n",
              "      <td>1140.000000</td>\n",
              "    </tr>\n",
              "    <tr>\n",
              "      <th>75%</th>\n",
              "      <td>1900.000000</td>\n",
              "    </tr>\n",
              "    <tr>\n",
              "      <th>max</th>\n",
              "      <td>4650.000000</td>\n",
              "    </tr>\n",
              "  </tbody>\n",
              "</table>\n",
              "</div><br><label><b>dtype:</b> float64</label>"
            ]
          },
          "metadata": {},
          "execution_count": 51
        }
      ],
      "source": [
        "df_active_users_in_group[(df_active_users_in_group['grp']=='B')]['rev'].describe()"
      ]
    },
    {
      "cell_type": "markdown",
      "metadata": {
        "id": "LzlhqJ4KKmeo"
      },
      "source": [
        "**Исходя из анализа статистических показателей активных пользователей, мы видим, что:**\n",
        "   - в группе B среднее значение доходов Выше, чем в группе А (А_mean=933.58,B_mean=1255.82)\n",
        "   - в группе B стандартное отклонение меньше, чем в группе А (А_std=919.93,B_std=791.29)\n",
        "   - анализируя распределение доходов по квартилям мы видим, что в группе B наблюдаются более высокие значения доходов\n",
        "    \n",
        "    "
      ]
    },
    {
      "cell_type": "markdown",
      "metadata": {
        "id": "9UZgRBK4Kmeo"
      },
      "source": [
        "## A/B тестирование\n",
        "- Вывести boxplot для наглядности распределения доходов\n",
        "- Проверка на нормальность распределения групп по доходам\n",
        "- Проверяем гипотезу на то, что в группах нет различий в распределении доходов\n",
        "- Проверяем гипотезу на то, что нет зависимости между группой и оплатой для активных пользователей (cr_to_pay)\n",
        "- Проверим статистическую разницу между группами по в метриках ARPU,ARPPU"
      ]
    },
    {
      "cell_type": "markdown",
      "metadata": {
        "id": "HjX--5rXKmep"
      },
      "source": [
        "Создадим два датафрейма с пользователями по группам.\n",
        "Удалим пропущенные значения в группах и оставим колонку с доходами"
      ]
    },
    {
      "cell_type": "code",
      "execution_count": 52,
      "metadata": {
        "id": "HFGJ7UcGKmep"
      },
      "outputs": [],
      "source": [
        "group_A = df_active_users_in_group[df_active_users_in_group['grp'] == 'A']['rev'].dropna()\n",
        "group_B = df_active_users_in_group[df_active_users_in_group['grp'] == 'B']['rev'].dropna()"
      ]
    },
    {
      "cell_type": "markdown",
      "metadata": {
        "id": "-tj-MEBtKmep"
      },
      "source": [
        "Проверим данные на нормальность распределения"
      ]
    },
    {
      "cell_type": "code",
      "execution_count": 53,
      "metadata": {
        "colab": {
          "base_uri": "https://localhost:8080/",
          "height": 472
        },
        "id": "1lwXIADwKmep",
        "outputId": "3122b957-033a-49ef-c2ff-89c30d71a5d2"
      },
      "outputs": [
        {
          "output_type": "display_data",
          "data": {
            "text/plain": [
              "<Figure size 640x480 with 1 Axes>"
            ],
            "image/png": "[encoded data removed]"
          },
          "metadata": {}
        }
      ],
      "source": [
        "sns.boxplot(x=group_A)\n",
        "plt.title('Ящик с усами для revenue группа A')\n",
        "plt.show()"
      ]
    },
    {
      "cell_type": "code",
      "execution_count": 54,
      "metadata": {
        "colab": {
          "base_uri": "https://localhost:8080/",
          "height": 472
        },
        "id": "OY9nazUrKmep",
        "outputId": "91d2416d-7484-4bc0-b1c6-c1e7a43a67ba"
      },
      "outputs": [
        {
          "output_type": "display_data",
          "data": {
            "text/plain": [
              "<Figure size 640x480 with 1 Axes>"
            ],
            "image/png": "[encoded data removed]"
          },
          "metadata": {}
        }
      ],
      "source": [
        "sns.boxplot(x=group_B)\n",
        "plt.title('Ящик с усами для revenue группа B')\n",
        "plt.show()"
      ]
    },
    {
      "cell_type": "markdown",
      "metadata": {
        "id": "79l_qsJ5Kmep"
      },
      "source": [
        "## Проверим на нормальность распределение доходов в группах"
      ]
    },
    {
      "cell_type": "markdown",
      "metadata": {
        "id": "RNocP2vmKmeq"
      },
      "source": [
        "**Т.к. значений в выборках у нас много, для большей достоверности полученных данных можно использовать тесты:**\n",
        "\n",
        "- Д’Агостино и Пирсона\n",
        "\n",
        "- одновыборочный Колмогорова-Смирнова (Для большей достоверности полученных данных объемы рассматриваемых выборок должен быть достаточно большими: n ≥ 50)"
      ]
    },
    {
      "cell_type": "markdown",
      "metadata": {
        "id": "YgzoRU9lKmeq"
      },
      "source": [
        "Проверим нормальность распределения через тест Д’Агостино и Пирсона"
      ]
    },
    {
      "cell_type": "code",
      "execution_count": 55,
      "metadata": {
        "colab": {
          "base_uri": "https://localhost:8080/"
        },
        "id": "moRxBkejKmeq",
        "outputId": "108460c4-17ef-48f7-b7f6-a198d8948d6e"
      },
      "outputs": [
        {
          "output_type": "stream",
          "name": "stdout",
          "text": [
            "Отклоняем H0, данные распределены не нормально\n"
          ]
        }
      ],
      "source": [
        "d_statistic, p_value=stats.normaltest(group_B)\n",
        "if p_value <= 0.05:\n",
        "    print('Отклоняем H0, данные распределены не нормально')\n",
        "else:\n",
        "    print('Не отклоняем H0, данные распределены нормально')"
      ]
    },
    {
      "cell_type": "code",
      "execution_count": 56,
      "metadata": {
        "colab": {
          "base_uri": "https://localhost:8080/"
        },
        "id": "pQDz-Cy2Kmeq",
        "outputId": "64e63bdc-06b2-47d9-c5f4-17564dd912f6"
      },
      "outputs": [
        {
          "output_type": "stream",
          "name": "stdout",
          "text": [
            "Отклоняем H0, данные распределены ненормально\n"
          ]
        }
      ],
      "source": [
        "d_statistic, p_value=stats.normaltest(group_A)\n",
        "if p_value <= 0.05:\n",
        "    print('Отклоняем H0, данные распределены ненормально')\n",
        "else:\n",
        "    print('Не отклоняем H0, данные распределены нормально')"
      ]
    },
    {
      "cell_type": "markdown",
      "metadata": {
        "id": "X3EJThADKmeq"
      },
      "source": [
        "Проверим нормальность распределения через одновыборочный тест Колмогорова-Смирнова"
      ]
    },
    {
      "cell_type": "code",
      "execution_count": 57,
      "metadata": {
        "colab": {
          "base_uri": "https://localhost:8080/"
        },
        "id": "VL-rARurKmer",
        "outputId": "62340df6-6c74-423a-a64d-f06a21d067d5"
      },
      "outputs": [
        {
          "output_type": "stream",
          "name": "stdout",
          "text": [
            "Статистика теста: 0.22045934591129768\n",
            "P-значение: 0.000825355371358057\n",
            "Отвергаем нулевую гипотезу: данные распределены ненормально.\n"
          ]
        }
      ],
      "source": [
        "d_statistic, p_value = stats.kstest(group_A, 'norm', args=(np.mean(group_A), np.std(group_A)))\n",
        "\n",
        "print(f\"Статистика теста: {d_statistic}\")\n",
        "print(f\"P-значение: {p_value}\")\n",
        "\n",
        "# Интерпретация результата\n",
        "alpha = 0.05  # уровень значимости\n",
        "if p_value < alpha:\n",
        "    print(\"Отвергаем нулевую гипотезу: данные распределены ненормально.\")\n",
        "else:\n",
        "    print(\"Не отвергаем нулевую гипотезу: данные распределены нормально.\")"
      ]
    },
    {
      "cell_type": "code",
      "execution_count": 58,
      "metadata": {
        "colab": {
          "base_uri": "https://localhost:8080/"
        },
        "id": "SN5DwbVKKmer",
        "outputId": "d562abd2-9e83-4b11-e5b6-7a9c0ae89933"
      },
      "outputs": [
        {
          "output_type": "stream",
          "name": "stdout",
          "text": [
            "Статистика теста: 0.255831089729082\n",
            "P-значение: 1.5019596338138588e-18\n",
            "Отвергаем нулевую гипотезу: данные распределены ненормально.\n"
          ]
        }
      ],
      "source": [
        "d_statistic, p_value = stats.kstest(group_B, 'norm', args=(np.mean(group_B), np.std(group_B)))\n",
        "\n",
        "print(f\"Статистика теста: {d_statistic}\")\n",
        "print(f\"P-значение: {p_value}\")\n",
        "\n",
        "# Интерпретация результата\n",
        "alpha = 0.05  # уровень значимости\n",
        "if p_value < alpha:\n",
        "    print(\"Отвергаем нулевую гипотезу: данные распределены ненормально.\")\n",
        "else:\n",
        "    print(\"Не отвергаем нулевую гипотезу: данные распределены нормально.\")"
      ]
    },
    {
      "cell_type": "markdown",
      "metadata": {
        "id": "Wn-i0awIKmer"
      },
      "source": [
        "Посмотрим распределение доходов по группам"
      ]
    },
    {
      "cell_type": "code",
      "execution_count": 59,
      "metadata": {
        "colab": {
          "base_uri": "https://localhost:8080/",
          "height": 890
        },
        "id": "mchz5fWZKmer",
        "outputId": "772e68b6-e315-4b5e-b64f-d5d20dfe9f45"
      },
      "outputs": [
        {
          "output_type": "display_data",
          "data": {
            "text/plain": [
              "<Figure size 1000x1000 with 1 Axes>"
            ],
            "image/png": "[encoded data removed]"
          },
          "metadata": {}
        }
      ],
      "source": [
        "fig, axes=plt.subplots(figsize=(10,10))\n",
        "sns.histplot(data=df_active_users_in_group[df_active_users_in_group['status']=='active'],x='rev',hue='grp',bins=20)\n",
        "plt.title(\"РАСПРЕДЕЛЕНИЕ ПО ГРУППАМ\",fontsize=20)\n",
        "plt.xlabel(\"доход\",fontsize=18)\n",
        "plt.ylabel(\"количество пользователей\",fontsize=18);"
      ]
    },
    {
      "cell_type": "markdown",
      "metadata": {
        "id": "tWEWvcONKmer"
      },
      "source": [
        "**Выведем отдельно гистограммы по распределению доходов в группах**"
      ]
    },
    {
      "cell_type": "markdown",
      "metadata": {
        "id": "1Uih_ax6Kmes"
      },
      "source": [
        "Группа B"
      ]
    },
    {
      "cell_type": "code",
      "execution_count": 60,
      "metadata": {
        "colab": {
          "base_uri": "https://localhost:8080/",
          "height": 450
        },
        "id": "RRwc0dgnKmes",
        "outputId": "3e7e9f8e-c174-4e1b-cba7-3926c1990294"
      },
      "outputs": [
        {
          "output_type": "display_data",
          "data": {
            "text/plain": [
              "<Figure size 640x480 with 1 Axes>"
            ],
            "image/png": "[encoded data removed]"
          },
          "metadata": {}
        }
      ],
      "source": [
        "sns.histplot(group_B);"
      ]
    },
    {
      "cell_type": "markdown",
      "metadata": {
        "id": "XUDCj8hdKmes"
      },
      "source": [
        "Группа A"
      ]
    },
    {
      "cell_type": "code",
      "execution_count": 61,
      "metadata": {
        "colab": {
          "base_uri": "https://localhost:8080/",
          "height": 449
        },
        "id": "be-W5HuAKmes",
        "outputId": "b7bcd5d3-4166-4bee-bc2c-85b68fedd40c"
      },
      "outputs": [
        {
          "output_type": "display_data",
          "data": {
            "text/plain": [
              "<Figure size 640x480 with 1 Axes>"
            ],
            "image/png": "[encoded data removed]"
          },
          "metadata": {}
        }
      ],
      "source": [
        "sns.histplot(group_A);"
      ]
    },
    {
      "cell_type": "code",
      "execution_count": 62,
      "metadata": {
        "colab": {
          "base_uri": "https://localhost:8080/",
          "height": 449
        },
        "id": "KRFC6AqJKmes",
        "outputId": "3ebfad66-9748-4229-ca0a-3dbaf898136e"
      },
      "outputs": [
        {
          "output_type": "display_data",
          "data": {
            "text/plain": [
              "<Figure size 640x480 with 1 Axes>"
            ],
            "image/png": "[encoded data removed]"
          },
          "metadata": {}
        }
      ],
      "source": [
        "sns.kdeplot(group_B,fill=True,linewidth=3,clip=(0, None))\n",
        "plt.xlim(0, None)\n",
        "plt.show()\n"
      ]
    },
    {
      "cell_type": "code",
      "execution_count": 63,
      "metadata": {
        "colab": {
          "base_uri": "https://localhost:8080/",
          "height": 449
        },
        "id": "NXVO8mIqKmet",
        "outputId": "673a5e40-d08c-4456-e1f5-0322095cdf45"
      },
      "outputs": [
        {
          "output_type": "display_data",
          "data": {
            "text/plain": [
              "<Figure size 640x480 with 1 Axes>"
            ],
            "image/png": "[encoded data removed]"
          },
          "metadata": {}
        }
      ],
      "source": [
        "sns.kdeplot(group_A,fill=True,linewidth=3,clip=(0, None))\n",
        "plt.xlim(0, None)\n",
        "plt.show()\n"
      ]
    },
    {
      "cell_type": "markdown",
      "metadata": {
        "id": "0LcoNrIsKmet"
      },
      "source": [
        "# Доходы в группах A и B распределены не нормально"
      ]
    },
    {
      "cell_type": "markdown",
      "metadata": {
        "id": "fZIFJx2kKmet"
      },
      "source": [
        "## Проверяем гипотезу на то, что в группах  доходы распределены не одинакого"
      ]
    },
    {
      "cell_type": "markdown",
      "metadata": {
        "id": "-trkY7zzKmet"
      },
      "source": [
        "### Сравнение доходов через тест Колмогорова-Смирнова (Проверим, отличаются ли распределения двух выборок)"
      ]
    },
    {
      "cell_type": "code",
      "execution_count": 64,
      "metadata": {
        "colab": {
          "base_uri": "https://localhost:8080/"
        },
        "id": "ryuMSFlZKmet",
        "outputId": "cb5082a2-fc4c-44bd-d31e-abe1b677b954"
      },
      "outputs": [
        {
          "output_type": "stream",
          "name": "stdout",
          "text": [
            "Статистика КС: 0.322233144916851\n",
            "P-значение: 2.6741080572152186e-06\n",
            "Можно отклонить нулевую гипотезу — между группами скорее всего есть статистически значимая разница.\n"
          ]
        }
      ],
      "source": [
        "ks_statistic, p_value = stats.ks_2samp(group_A, group_B)\n",
        "\n",
        "# Вывод результатов\n",
        "print(f\"Статистика КС: {ks_statistic}\")\n",
        "print(f\"P-значение: {p_value}\")\n",
        "alpha = 0.05\n",
        "if p_value < alpha:\n",
        "    print(\"Можно отклонить нулевую гипотезу — между группами скорее всего есть статистически значимая разница.\")\n",
        "else:\n",
        "    print(\"Нет оснований отклонять нулевую гипотезу — между группами скорее всего нет статистически значимой разницы.\")"
      ]
    },
    {
      "cell_type": "markdown",
      "metadata": {
        "id": "tEAvePeSKmet"
      },
      "source": [
        "### Мы получаем, что скорее всего есть статистически значимая разница в распределении доходов между группами"
      ]
    },
    {
      "cell_type": "code",
      "execution_count": 65,
      "metadata": {
        "colab": {
          "base_uri": "https://localhost:8080/"
        },
        "id": "4YuMpsG5Kmeu",
        "outputId": "9322cde6-b48d-483d-a860-11a56f041e3e"
      },
      "outputs": [
        {
          "output_type": "stream",
          "name": "stdout",
          "text": [
            "Тест Левене: статистика = 3.0559, p-value = 0.0812\n",
            "Не отвергаем нулевую гипотезу: дисперсии равны\n"
          ]
        }
      ],
      "source": [
        "# Проверка равенства дисперсий с помощью теста Левене\n",
        "levene_test = stats.levene(df_active_users_in_group[(df_active_users_in_group['grp']=='A')& (df_active_users_in_group['rev'].isna()==False)]['rev']\\\n",
        "                           ,df_active_users_in_group[(df_active_users_in_group['grp']=='B')& (df_active_users_in_group['rev'].isna()==False)]['rev'])\n",
        "print('Тест Левене: статистика = {:.4f}, p-value = {:.4f}'.format(levene_test.statistic, levene_test.pvalue))\n",
        "\n",
        "# Интерпретация результата\n",
        "alpha = 0.05\n",
        "if levene_test.pvalue > alpha:\n",
        "    print(\"Не отвергаем нулевую гипотезу: дисперсии равны\")\n",
        "else:\n",
        "    print(\"Отвергаем нулевую гипотезу: дисперсии не равны\")"
      ]
    },
    {
      "cell_type": "markdown",
      "metadata": {
        "id": "coBiOZGlKmeu"
      },
      "source": [
        "**Поскольку тест Колмогорова-Смирнова указывает на различие в распределениях, это может означать, что, хотя дисперсии равны, одна из выборок может иметь другое среднее значение или другую форму распределения (например, скошенность или наличие выбросов).**"
      ]
    },
    {
      "cell_type": "markdown",
      "metadata": {
        "id": "BVaSx7TrKmeu"
      },
      "source": [
        "## Проверяем гипотезу на то, что нет зависимости между группой и оплатой для активных пользователей, т.е. сравниваем CR_to_pay\n"
      ]
    },
    {
      "cell_type": "markdown",
      "metadata": {
        "id": "a8dVMbzQKmeu"
      },
      "source": [
        "Хи-квадрат тест (Chi-squared test):\n",
        "\n",
        "- Применяется для сравнения двух категориальных переменных.\n",
        "- Проверяет, существует ли статистически значимая зависимость между группой и оплатой.\n",
        "- Предполагает большой объём выборки."
      ]
    },
    {
      "cell_type": "code",
      "execution_count": 66,
      "metadata": {
        "id": "KYUZ3OZPKmeu"
      },
      "outputs": [],
      "source": [
        "df_active_users_in_group['pay']=np.where(df_active_users_in_group['rev'].isna()==True,0,1)"
      ]
    },
    {
      "cell_type": "code",
      "execution_count": 67,
      "metadata": {
        "id": "vpAT78PHKmev"
      },
      "outputs": [],
      "source": [
        "contingency_table_pay=pd.crosstab(df_active_users_in_group['grp'], df_active_users_in_group['pay'])"
      ]
    },
    {
      "cell_type": "code",
      "execution_count": 68,
      "metadata": {
        "colab": {
          "base_uri": "https://localhost:8080/",
          "height": 143
        },
        "id": "16ybvwvRKmev",
        "outputId": "a7a33c5a-38a1-409a-e27d-435971d20804"
      },
      "outputs": [
        {
          "output_type": "execute_result",
          "data": {
            "text/plain": [
              "pay     0    1\n",
              "grp           \n",
              "A    1457   78\n",
              "B    6480  313"
            ],
            "text/html": [
              "\n",
              "  <div id=\"df-91869814-73a6-4223-acaf-c03438ae4be6\" class=\"colab-df-container\">\n",
              "    <div>\n",
              "<style scoped>\n",
              "    .dataframe tbody tr th:only-of-type {\n",
              "        vertical-align: middle;\n",
              "    }\n",
              "\n",
              "    .dataframe tbody tr th {\n",
              "        vertical-align: top;\n",
              "    }\n",
              "\n",
              "    .dataframe thead th {\n",
              "        text-align: right;\n",
              "    }\n",
              "</style>\n",
              "<table border=\"1\" class=\"dataframe\">\n",
              "  <thead>\n",
              "    <tr style=\"text-align: right;\">\n",
              "      <th>pay</th>\n",
              "      <th>0</th>\n",
              "      <th>1</th>\n",
              "    </tr>\n",
              "    <tr>\n",
              "      <th>grp</th>\n",
              "      <th></th>\n",
              "      <th></th>\n",
              "    </tr>\n",
              "  </thead>\n",
              "  <tbody>\n",
              "    <tr>\n",
              "      <th>A</th>\n",
              "      <td>1457</td>\n",
              "      <td>78</td>\n",
              "    </tr>\n",
              "    <tr>\n",
              "      <th>B</th>\n",
              "      <td>6480</td>\n",
              "      <td>313</td>\n",
              "    </tr>\n",
              "  </tbody>\n",
              "</table>\n",
              "</div>\n",
              "    <div class=\"colab-df-buttons\">\n",
              "\n",
              "  <div class=\"colab-df-container\">\n",
              "    <button class=\"colab-df-convert\" onclick=\"convertToInteractive('df-91869814-73a6-4223-acaf-c03438ae4be6')\"\n",
              "            title=\"Convert this dataframe to an interactive table.\"\n",
              "            style=\"display:none;\">\n",
              "\n",
              "  <svg xmlns=\"http://www.w3.org/2000/svg\" height=\"24px\" viewBox=\"0 -960 960 960\">\n",
              "    <path d=\"M120-120v-720h720v720H120Zm60-500h600v-160H180v160Zm220 220h160v-160H400v160Zm0 220h160v-160H400v160ZM180-400h160v-160H180v160Zm440 0h160v-160H620v160ZM180-180h160v-160H180v160Zm440 0h160v-160H620v160Z\"/>\n",
              "  </svg>\n",
              "    </button>\n",
              "\n",
              "  <style>\n",
              "    .colab-df-container {\n",
              "      display:flex;\n",
              "      gap: 12px;\n",
              "    }\n",
              "\n",
              "    .colab-df-convert {\n",
              "      background-color: #E8F0FE;\n",
              "      border: none;\n",
              "      border-radius: 50%;\n",
              "      cursor: pointer;\n",
              "      display: none;\n",
              "      fill: #1967D2;\n",
              "      height: 32px;\n",
              "      padding: 0 0 0 0;\n",
              "      width: 32px;\n",
              "    }\n",
              "\n",
              "    .colab-df-convert:hover {\n",
              "      background-color: #E2EBFA;\n",
              "      box-shadow: 0px 1px 2px rgba(60, 64, 67, 0.3), 0px 1px 3px 1px rgba(60, 64, 67, 0.15);\n",
              "      fill: #174EA6;\n",
              "    }\n",
              "\n",
              "    .colab-df-buttons div {\n",
              "      margin-bottom: 4px;\n",
              "    }\n",
              "\n",
              "    [theme=dark] .colab-df-convert {\n",
              "      background-color: #3B4455;\n",
              "      fill: #D2E3FC;\n",
              "    }\n",
              "\n",
              "    [theme=dark] .colab-df-convert:hover {\n",
              "      background-color: #434B5C;\n",
              "      box-shadow: 0px 1px 3px 1px rgba(0, 0, 0, 0.15);\n",
              "      filter: drop-shadow(0px 1px 2px rgba(0, 0, 0, 0.3));\n",
              "      fill: #FFFFFF;\n",
              "    }\n",
              "  </style>\n",
              "\n",
              "    <script>\n",
              "      const buttonEl =\n",
              "        document.querySelector('#df-91869814-73a6-4223-acaf-c03438ae4be6 button.colab-df-convert');\n",
              "      buttonEl.style.display =\n",
              "        google.colab.kernel.accessAllowed ? 'block' : 'none';\n",
              "\n",
              "      async function convertToInteractive(key) {\n",
              "        const element = document.querySelector('#df-91869814-73a6-4223-acaf-c03438ae4be6');\n",
              "        const dataTable =\n",
              "          await google.colab.kernel.invokeFunction('convertToInteractive',\n",
              "                                                    [key], {});\n",
              "        if (!dataTable) return;\n",
              "\n",
              "        const docLinkHtml = 'Like what you see? Visit the ' +\n",
              "          '<a target=\"_blank\" href=https://colab.research.google.com/notebooks/data_table.ipynb>data table notebook</a>'\n",
              "          + ' to learn more about interactive tables.';\n",
              "        element.innerHTML = '';\n",
              "        dataTable['output_type'] = 'display_data';\n",
              "        await google.colab.output.renderOutput(dataTable, element);\n",
              "        const docLink = document.createElement('div');\n",
              "        docLink.innerHTML = docLinkHtml;\n",
              "        element.appendChild(docLink);\n",
              "      }\n",
              "    </script>\n",
              "  </div>\n",
              "\n",
              "\n",
              "    <div id=\"df-8b6c2ee8-df66-4ba0-b987-e84a4e1f40ab\">\n",
              "      <button class=\"colab-df-quickchart\" onclick=\"quickchart('df-8b6c2ee8-df66-4ba0-b987-e84a4e1f40ab')\"\n",
              "                title=\"Suggest charts\"\n",
              "                style=\"display:none;\">\n",
              "\n",
              "<svg xmlns=\"http://www.w3.org/2000/svg\" height=\"24px\"viewBox=\"0 0 24 24\"\n",
              "     width=\"24px\">\n",
              "    <g>\n",
              "        <path d=\"M19 3H5c-1.1 0-2 .9-2 2v14c0 1.1.9 2 2 2h14c1.1 0 2-.9 2-2V5c0-1.1-.9-2-2-2zM9 17H7v-7h2v7zm4 0h-2V7h2v10zm4 0h-2v-4h2v4z\"/>\n",
              "    </g>\n",
              "</svg>\n",
              "      </button>\n",
              "\n",
              "<style>\n",
              "  .colab-df-quickchart {\n",
              "      --bg-color: #E8F0FE;\n",
              "      --fill-color: #1967D2;\n",
              "      --hover-bg-color: #E2EBFA;\n",
              "      --hover-fill-color: #174EA6;\n",
              "      --disabled-fill-color: #AAA;\n",
              "      --disabled-bg-color: #DDD;\n",
              "  }\n",
              "\n",
              "  [theme=dark] .colab-df-quickchart {\n",
              "      --bg-color: #3B4455;\n",
              "      --fill-color: #D2E3FC;\n",
              "      --hover-bg-color: #434B5C;\n",
              "      --hover-fill-color: #FFFFFF;\n",
              "      --disabled-bg-color: #3B4455;\n",
              "      --disabled-fill-color: #666;\n",
              "  }\n",
              "\n",
              "  .colab-df-quickchart {\n",
              "    background-color: var(--bg-color);\n",
              "    border: none;\n",
              "    border-radius: 50%;\n",
              "    cursor: pointer;\n",
              "    display: none;\n",
              "    fill: var(--fill-color);\n",
              "    height: 32px;\n",
              "    padding: 0;\n",
              "    width: 32px;\n",
              "  }\n",
              "\n",
              "  .colab-df-quickchart:hover {\n",
              "    background-color: var(--hover-bg-color);\n",
              "    box-shadow: 0 1px 2px rgba(60, 64, 67, 0.3), 0 1px 3px 1px rgba(60, 64, 67, 0.15);\n",
              "    fill: var(--button-hover-fill-color);\n",
              "  }\n",
              "\n",
              "  .colab-df-quickchart-complete:disabled,\n",
              "  .colab-df-quickchart-complete:disabled:hover {\n",
              "    background-color: var(--disabled-bg-color);\n",
              "    fill: var(--disabled-fill-color);\n",
              "    box-shadow: none;\n",
              "  }\n",
              "\n",
              "  .colab-df-spinner {\n",
              "    border: 2px solid var(--fill-color);\n",
              "    border-color: transparent;\n",
              "    border-bottom-color: var(--fill-color);\n",
              "    animation:\n",
              "      spin 1s steps(1) infinite;\n",
              "  }\n",
              "\n",
              "  @keyframes spin {\n",
              "    0% {\n",
              "      border-color: transparent;\n",
              "      border-bottom-color: var(--fill-color);\n",
              "      border-left-color: var(--fill-color);\n",
              "    }\n",
              "    20% {\n",
              "      border-color: transparent;\n",
              "      border-left-color: var(--fill-color);\n",
              "      border-top-color: var(--fill-color);\n",
              "    }\n",
              "    30% {\n",
              "      border-color: transparent;\n",
              "      border-left-color: var(--fill-color);\n",
              "      border-top-color: var(--fill-color);\n",
              "      border-right-color: var(--fill-color);\n",
              "    }\n",
              "    40% {\n",
              "      border-color: transparent;\n",
              "      border-right-color: var(--fill-color);\n",
              "      border-top-color: var(--fill-color);\n",
              "    }\n",
              "    60% {\n",
              "      border-color: transparent;\n",
              "      border-right-color: var(--fill-color);\n",
              "    }\n",
              "    80% {\n",
              "      border-color: transparent;\n",
              "      border-right-color: var(--fill-color);\n",
              "      border-bottom-color: var(--fill-color);\n",
              "    }\n",
              "    90% {\n",
              "      border-color: transparent;\n",
              "      border-bottom-color: var(--fill-color);\n",
              "    }\n",
              "  }\n",
              "</style>\n",
              "\n",
              "      <script>\n",
              "        async function quickchart(key) {\n",
              "          const quickchartButtonEl =\n",
              "            document.querySelector('#' + key + ' button');\n",
              "          quickchartButtonEl.disabled = true;  // To prevent multiple clicks.\n",
              "          quickchartButtonEl.classList.add('colab-df-spinner');\n",
              "          try {\n",
              "            const charts = await google.colab.kernel.invokeFunction(\n",
              "                'suggestCharts', [key], {});\n",
              "          } catch (error) {\n",
              "            console.error('Error during call to suggestCharts:', error);\n",
              "          }\n",
              "          quickchartButtonEl.classList.remove('colab-df-spinner');\n",
              "          quickchartButtonEl.classList.add('colab-df-quickchart-complete');\n",
              "        }\n",
              "        (() => {\n",
              "          let quickchartButtonEl =\n",
              "            document.querySelector('#df-8b6c2ee8-df66-4ba0-b987-e84a4e1f40ab button');\n",
              "          quickchartButtonEl.style.display =\n",
              "            google.colab.kernel.accessAllowed ? 'block' : 'none';\n",
              "        })();\n",
              "      </script>\n",
              "    </div>\n",
              "    </div>\n",
              "  </div>\n"
            ],
            "application/vnd.google.colaboratory.intrinsic+json": {
              "type": "dataframe",
              "variable_name": "contingency_table_pay",
              "summary": "{\n  \"name\": \"contingency_table_pay\",\n  \"rows\": 2,\n  \"fields\": [\n    {\n      \"column\": \"grp\",\n      \"properties\": {\n        \"dtype\": \"string\",\n        \"num_unique_values\": 2,\n        \"samples\": [\n          \"B\",\n          \"A\"\n        ],\n        \"semantic_type\": \"\",\n        \"description\": \"\"\n      }\n    },\n    {\n      \"column\": 0,\n      \"properties\": {\n        \"dtype\": \"number\",\n        \"std\": 3551,\n        \"min\": 1457,\n        \"max\": 6480,\n        \"num_unique_values\": 2,\n        \"samples\": [\n          6480,\n          1457\n        ],\n        \"semantic_type\": \"\",\n        \"description\": \"\"\n      }\n    },\n    {\n      \"column\": 1,\n      \"properties\": {\n        \"dtype\": \"number\",\n        \"std\": 166,\n        \"min\": 78,\n        \"max\": 313,\n        \"num_unique_values\": 2,\n        \"samples\": [\n          313,\n          78\n        ],\n        \"semantic_type\": \"\",\n        \"description\": \"\"\n      }\n    }\n  ]\n}"
            }
          },
          "metadata": {},
          "execution_count": 68
        }
      ],
      "source": [
        "contingency_table_pay"
      ]
    },
    {
      "cell_type": "markdown",
      "metadata": {
        "id": "ng0mOnBCKmev"
      },
      "source": [
        "- Нулевая гипотеза (H0): Нет различий в конверсии покупок между тестовой и контрольной группами.\n",
        "\n",
        "- Альтернативная гипотеза (H1): Существует разница в конверсии покупок между тестовой и контрольной группами."
      ]
    },
    {
      "cell_type": "code",
      "execution_count": 69,
      "metadata": {
        "colab": {
          "base_uri": "https://localhost:8080/"
        },
        "id": "n3ht6SQsKmev",
        "outputId": "08aad085-1fe2-47fc-e4fe-a7015540b327"
      },
      "outputs": [
        {
          "output_type": "stream",
          "name": "stdout",
          "text": [
            "Хи-квадрат статистика: 0.526607176998989\n",
            "P-значение: 0.46803677583199144\n",
            "Степени свободы: 1\n",
            "Ожидаемые частоты: [[1462.93167627   72.06832373]\n",
            " [6474.06832373  318.93167627]]\n",
            "Не отвергаем нулевую гипотезу: То есть, скорее всего, разницы не существует.\n"
          ]
        }
      ],
      "source": [
        "chi2_statistic, p_value, dof, expected = stats.chi2_contingency(contingency_table_pay)\n",
        "\n",
        "print(f\"Хи-квадрат статистика: {chi2_statistic}\")\n",
        "print(f\"P-значение: {p_value}\")\n",
        "print(f\"Степени свободы: {dof}\")\n",
        "print(f\"Ожидаемые частоты: {expected}\")\n",
        "\n",
        "# Интерпретация результата\n",
        "alpha = 0.05  # уровень значимости\n",
        "if p_value < alpha:\n",
        "    print(\"Отвергаем нулевую гипотезу: разница вряд ли объясняется случайностью. То есть, скорее всего, разница действительно существует.\")\n",
        "else:\n",
        "    print(\"Не отвергаем нулевую гипотезу: То есть, скорее всего, разницы не существует.\")"
      ]
    },
    {
      "cell_type": "markdown",
      "metadata": {
        "id": "OjiGWE-kKmev"
      },
      "source": [
        "### Не отвергаем нулевую гипотезу: То есть, скорее всего, разницы не существует в группах по метрике CR_to_pay"
      ]
    },
    {
      "cell_type": "markdown",
      "metadata": {
        "id": "1yz5yDE-Kmew"
      },
      "source": [
        "## ARPU - средний доход с клиента\n",
        "\n",
        "    Нулевая гипотеза (H0): Нет разницы в показателе ARPU между тестовой и контрольной группой.\n",
        "    Альтернативная гипотеза (H1): Есть разница в значении ARPU между тестовой и контрольной группой."
      ]
    },
    {
      "cell_type": "code",
      "execution_count": 70,
      "metadata": {
        "colab": {
          "base_uri": "https://localhost:8080/",
          "height": 524
        },
        "id": "npIVQRhkKmew",
        "outputId": "06c32cd2-bb30-456c-9d64-58bb4d20f285"
      },
      "outputs": [
        {
          "output_type": "stream",
          "name": "stdout",
          "text": [
            "Наблюдаемая разница ARPU: -10.4248\n",
            "p-value: 0.7147\n",
            "Различия в ARPU между группами не статистически значимы.\n"
          ]
        },
        {
          "output_type": "display_data",
          "data": {
            "text/plain": [
              "<Figure size 640x480 with 1 Axes>"
            ],
            "image/png": "[encoded data removed]"
          },
          "metadata": {}
        }
      ],
      "source": [
        "# Функция для бутстрап-выборки\n",
        "def calculate_arpu(group):\n",
        "    return group['rev'].sum() / group['id'].nunique()\n",
        "\n",
        "# Наблюдаемая разница ARPU\n",
        "group_A = df_active_users_in_group.query('grp == \"A\"')\n",
        "group_B = df_active_users_in_group.query('grp == \"B\"')\n",
        "observed_diff = calculate_arpu(group_A) - calculate_arpu(group_B)\n",
        "\n",
        "# Бутстрап-тест\n",
        "n_iterations = 10000\n",
        "bootstrap_diffs = np.zeros(n_iterations)\n",
        "\n",
        "# Генерация бутстрап-выборок и расчет разницы ARPU\n",
        "np.random.seed(42)  # Для воспроизводимости результатов\n",
        "for i in range(n_iterations):\n",
        "    bootstrap_A = group_A.sample(n=len(group_A), replace=True, random_state=i)\n",
        "    bootstrap_B = group_B.sample(n=len(group_B), replace=True, random_state=i)\n",
        "\n",
        "    bootstrap_diffs[i] = calculate_arpu(bootstrap_A) - calculate_arpu(bootstrap_B)\n",
        "\n",
        "# Оценка p-value\n",
        "p_value = np.mean(np.abs(bootstrap_diffs) >= np.abs(observed_diff))\n",
        "\n",
        "# Вывод результатов\n",
        "print(f\"Наблюдаемая разница ARPU: {observed_diff:.4f}\")\n",
        "print(f\"p-value: {p_value:.4f}\")\n",
        "\n",
        "if p_value < 0.05:\n",
        "    print(\"Различия в ARPU между группами статистически значимы.\")\n",
        "else:\n",
        "    print(\"Различия в ARPU между группами не статистически значимы.\")\n",
        "\n",
        "# Визуализация распределения разностей ARPU\n",
        "plt.hist(bootstrap_diffs, bins=50, edgecolor='k')\n",
        "plt.axvline(observed_diff, color='r', linestyle='dashed', linewidth=2)\n",
        "plt.title('Распределение разниц ARPU')\n",
        "plt.xlabel('Разница ARPU')\n",
        "plt.ylabel('Частота')\n",
        "plt.show()"
      ]
    },
    {
      "cell_type": "markdown",
      "metadata": {
        "id": "AuELy2HGKmew"
      },
      "source": [
        "## ARPPU - средний доход с платящего клиента\n",
        "\n",
        "    Нулевая гипотеза (H0): Нет разницы в показателе ARPPU между тестовой и контрольной группой.\n",
        "    Альтернативная гипотеза (H1): Есть разница в значении ARPPU между тестовой и контрольной группой."
      ]
    },
    {
      "cell_type": "code",
      "execution_count": 71,
      "metadata": {
        "colab": {
          "base_uri": "https://localhost:8080/",
          "height": 524
        },
        "id": "c8UYWhp2Kmew",
        "outputId": "5dd9f867-fd83-4bb2-ed43-81741303cb8e"
      },
      "outputs": [
        {
          "output_type": "stream",
          "name": "stdout",
          "text": [
            "Наблюдаемая разница ARPPU: -322.2377\n",
            "p-value: 0.8285\n",
            "Различия в ARPPU между группами не статистически значимы.\n"
          ]
        },
        {
          "output_type": "display_data",
          "data": {
            "text/plain": [
              "<Figure size 640x480 with 1 Axes>"
            ],
            "image/png": "[encoded data removed]"
          },
          "metadata": {}
        }
      ],
      "source": [
        "# Функция для бутстрап-выборки\n",
        "def calculate_arppu(group):\n",
        "    return group['rev'].sum() / group['id'].nunique()\n",
        "\n",
        "# Наблюдаемая разница ARPU\n",
        "group_A = df_active_users_in_group\\\n",
        "     [(df_active_users_in_group['grp']=='A')&(df_active_users_in_group['rev'].isna()==False)]\n",
        "group_B = df_active_users_in_group\\\n",
        "     [(df_active_users_in_group['grp']=='B')&(df_active_users_in_group['rev'].isna()==False)]\n",
        "\n",
        "observed_diff = calculate_arppu(group_A) - calculate_arppu(group_B)\n",
        "\n",
        "# Бутстрап-тест\n",
        "n_iterations = 10000\n",
        "bootstrap_diffs = np.zeros(n_iterations)\n",
        "\n",
        "# Генерация бутстрап-выборок и расчет разницы ARPU\n",
        "np.random.seed(42)  # Для воспроизводимости результатов\n",
        "for i in range(n_iterations):\n",
        "    bootstrap_A = group_A.sample(n=len(group_A), replace=True, random_state=i)\n",
        "    bootstrap_B = group_B.sample(n=len(group_B), replace=True, random_state=i)\n",
        "\n",
        "    bootstrap_diffs[i] = calculate_arppu(bootstrap_A) - calculate_arppu(bootstrap_B)\n",
        "\n",
        "# Оценка p-value\n",
        "p_value = np.mean(np.abs(bootstrap_diffs) >= np.abs(observed_diff))\n",
        "\n",
        "# Вывод результатов\n",
        "print(f\"Наблюдаемая разница ARPPU: {observed_diff:.4f}\")\n",
        "print(f\"p-value: {p_value:.4f}\")\n",
        "\n",
        "if p_value < 0.05:\n",
        "    print(\"Различия в ARPPU между группами статистически значимы.\")\n",
        "else:\n",
        "    print(\"Различия в ARPPU между группами не статистически значимы.\")\n",
        "\n",
        "# Визуализация распределения разностей ARPU\n",
        "plt.hist(bootstrap_diffs, bins=50, edgecolor='k')\n",
        "plt.axvline(observed_diff, color='r', linestyle='dashed', linewidth=2)\n",
        "plt.title('Распределение разниц ARPPU')\n",
        "plt.xlabel('Разница ARPPU')\n",
        "plt.ylabel('Частота')\n",
        "plt.show()"
      ]
    },
    {
      "cell_type": "markdown",
      "metadata": {
        "id": "CQOz3n_5Kmex"
      },
      "source": [
        "## Выведем метрики перед подведением итогов"
      ]
    },
    {
      "cell_type": "code",
      "execution_count": 73,
      "metadata": {
        "colab": {
          "base_uri": "https://localhost:8080/"
        },
        "id": "xFVEMv6KKmex",
        "outputId": "34f8293c-11f6-40b9-c818-1ea5721140a9"
      },
      "outputs": [
        {
          "output_type": "stream",
          "name": "stdout",
          "text": [
            "ARPU\n",
            "ARPU_A= 47.43973941368078, ARPU_B= 57.86456698071545\n",
            "\n",
            "ARPPU\n",
            "ARPPU_A= 933.5897435897435, ARPPU_B= 1255.8274872204472\n",
            "\n",
            "CR\n",
            "cr_to_pay\n",
            "cr_to_pay_A= 5.081433224755701, cr_to_pay_B= 4.607684380980421\n",
            "\n",
            "Описательная Статистика группы А по доходам\n",
            "count      78.000000\n",
            "mean      933.589744\n",
            "std       919.932711\n",
            "min       199.000000\n",
            "25%       290.000000\n",
            "50%       585.000000\n",
            "75%      1114.750000\n",
            "max      3660.000000\n",
            "Name: rev, dtype: float64\n",
            "\n",
            "Описательная Статистика группы B по доходам\n",
            "count     313.000000\n",
            "mean     1255.827487\n",
            "std       791.293377\n",
            "min       199.000000\n",
            "25%       489.000000\n",
            "50%      1140.000000\n",
            "75%      1900.000000\n",
            "max      4650.000000\n",
            "Name: rev, dtype: float64\n"
          ]
        }
      ],
      "source": [
        "print(\"ARPU\")\n",
        "print(f'ARPU_A= {arpu_A}, ARPU_B= {arpu_B}')\n",
        "print('')\n",
        "print(\"ARPPU\")\n",
        "print(f'ARPPU_A= {arppu_A}, ARPPU_B= {arppu_B}')\n",
        "print('')\n",
        "print('CR')\n",
        "print('cr_to_pay')\n",
        "print(f'cr_to_pay_A= {cr_to_pay_A}, cr_to_pay_B= {cr_to_pay_B}')\n",
        "print('')\n",
        "\n",
        "print('Описательная Статистика группы А по доходам')\n",
        "print(df_active_users_in_group[(df_active_users_in_group['grp']=='A')&(df_active_users_in_group['status']=='active')]['rev'].\\\n",
        "                                                                                                                describe())\n",
        "print('')\n",
        "print('Описательная Статистика группы B по доходам')\n",
        "print(df_active_users_in_group[(df_active_users_in_group['grp']=='B')&(df_active_users_in_group['status']=='active')]['rev'].\\\n",
        "                                                                                                                describe())"
      ]
    },
    {
      "cell_type": "markdown",
      "metadata": {
        "id": "2bsYPUOJKmex"
      },
      "source": [
        "## ВЫВОДЫ:\n",
        "\n",
        "    1.ARPU у группы B выше, однако статстически значимой разницы тест bootstrap не показал\n",
        "    2.ARPPU у группы B выше, однако статстически значимой разницы тест bootstrap не показал\n",
        "    4.CR\n",
        "        4.1 cr_to_pay -Конверсия пользователей в платящих так же у группы \"B\" меньше, однако статистический тест показывает,что новая система оплаты услуг не оказала значительного влияния на снижение конверсии при оплате.\n",
        "    5.Статистически значимая разница в распределении доходов между группами есть, однако дисперсии скорее всего равны.\n",
        "    6.Исходя из анализа статистических показателей активных пользователей, мы видим, что:\n",
        "        6.1 В группе B среднее значение доходов Выше, чем в группе А (А_mean=933.58,B_mean=1255.82)\n",
        "        6.2 В группе B стандартное отклонение в доходах меньше, чем в группе А (А_std=919.93,B_std=791.29)\n",
        "        6.3 Анализируя распределение доходов по квартилям мы видим, что в группе B более высокие значения доходов по квартилям\n",
        "        \n",
        "## ИТОГ:\n",
        "\n",
        "**Внедрение новой системы оплаты необходимо отложить, т.к.:\n",
        "1. Метрики CR_to_pay, ARPU и ARPPU не показали статистически значимых различий\n",
        "2. В данных явно есть баги, а именно :\n",
        "    - 2.1 149 пользователей попали в эксперимент,оплатили но не были активными, а значит не должны были попасть в данные\n",
        "    - 2.2 Различие в распределении доходов, а именно перекос в количестве оплат в районе 2000у.е. в группе B.\n",
        "    \n",
        "Предложение: Проврить, корректно ли сгенерированы выборки для тестирования и провести эксперимент снова."
      ]
    },
    {
      "cell_type": "markdown",
      "metadata": {
        "id": "D7qEAeR0Kmex"
      },
      "source": [
        "**3.1 ЗАДАЧА.**\n",
        "\n",
        "   - Реализуйте функцию, которая будет автоматически подгружать информацию из дополнительного файла groups_add.csv (заголовки могут отличаться) и на основании дополнительных параметров пересчитывать метрики.\n",
        "   - Реализуйте функцию, которая будет строить графики по получаемым метрикам."
      ]
    },
    {
      "cell_type": "markdown",
      "metadata": {
        "id": "QVWltsRxKmex"
      },
      "source": [
        "Присвоим переменной path_add_df путь к файлу с дополнительными данными"
      ]
    },
    {
      "cell_type": "code",
      "execution_count": 82,
      "metadata": {
        "id": "PSsy0-TFKmey"
      },
      "outputs": [],
      "source": [
        "path_add_df='/content/drive/MyDrive/Портфолио/Кейс \"Аналитик данных\"/group_add.csv'"
      ]
    },
    {
      "cell_type": "markdown",
      "metadata": {
        "id": "8SgkiL7DKmey"
      },
      "source": [
        "Напишем функцию, которая выявит несоответствие в наименованиях заголовков колонок и переименнует их\n",
        "в соответствии со стандартом. Т.к. мы не знаем, как будут наименоваться колонки, но знаем, что они должны содержать, то проверка происходит по содержимому и в соответствии с содержимым назначается новое наименование."
      ]
    },
    {
      "cell_type": "code",
      "execution_count": 83,
      "metadata": {
        "id": "yMgmNl7ZKmey"
      },
      "outputs": [],
      "source": [
        "def rename_columns(add_df):\n",
        "    group=['A','B']\n",
        "    x={}\n",
        "    for i in add_df.columns:\n",
        "        #проверяем, что в колонке только 2 значения и колонка называется не grp\n",
        "        if len(add_df[i].unique())==2 and i!='grp':\n",
        "            #Проверяем, соответствуют ли уникальные значения тем, что в эталонном списке group\n",
        "            if list(add_df[i].unique())[0] in group and list(add_df[i].unique())[1] in group:\n",
        "                x[i]='grp'\n",
        "        if add_df[i].dtype==int and i!='id':\n",
        "            x[i]='id'\n",
        "    #Переименовываем колонки в соответствии с выявленными несоответствиями\n",
        "    add_df.rename(columns=x,inplace=True)\n",
        "    return add_df"
      ]
    },
    {
      "cell_type": "markdown",
      "metadata": {
        "id": "VYfmgfqzKmey"
      },
      "source": [
        "### функция которая будет автоматически подгружать информацию из дополнительного файла groups_add.csv (заголовки могут отличаться) и на основании дополнительных параметров пересчитывать метрики."
      ]
    },
    {
      "cell_type": "markdown",
      "metadata": {
        "id": "PFgAtJUJKmey"
      },
      "source": [
        "Напишем функцию, которая будет:\n",
        "1. загружать новые данные\n",
        "2. проверять их на соответствие количества колонок\n",
        "3. запускать функцию для переименования колонок\n",
        "4. пересчитывать и возвращать метрики"
      ]
    },
    {
      "cell_type": "code",
      "execution_count": 84,
      "metadata": {
        "id": "uIkW_RY1Kmey"
      },
      "outputs": [],
      "source": [
        "def load_and_update_df(groups,path_add_df):\n",
        "    add_df=pd.read_csv(path_add_df)\n",
        "    try:\n",
        "        if add_df.shape[1]!=2:\n",
        "            raise ValueError(f\"Ошибка: количество колонок должно быть 2, а их {add_df.shape[1]}.\")\n",
        "    except ValueError as e:\n",
        "            print(e)  # Выводим сообщение об ошибке\n",
        "            sys.exit(1)\n",
        "    else:\n",
        "            rename_columns(add_df)\n",
        "            groups=pd.concat([groups,add_df])\n",
        "            groups=groups.drop_duplicates(subset='id')\n",
        "            df_users_in_group=groups.merge(active_studs, on='id', how='outer', indicator=True)\n",
        "            df_active_users_in_group=df_users_in_group[df_users_in_group['_merge']!='right_only']\n",
        "            df_active_users_in_group=df_active_users_in_group.rename(columns={'_merge':'status'})\n",
        "            df_active_users_in_group['status']=np.where(df_active_users_in_group['status']=='left_only','no_active','active')\n",
        "            df_active_users_in_group=df_active_users_in_group.merge(checks,on='id',how='left')\n",
        "            df_active_users_in_group=df_active_users_in_group[df_active_users_in_group['status']=='active']\n",
        "            # Метрики:\n",
        "            #ARPU\n",
        "            #ARPPU\n",
        "            #cr в оплату\n",
        "\n",
        "\n",
        "            arpu_A=df_active_users_in_group[df_active_users_in_group['grp']=='A']['rev'].sum()\\\n",
        "          /len(df_active_users_in_group[df_active_users_in_group['grp']=='A'])\n",
        "            arpu_B=df_active_users_in_group[df_active_users_in_group['grp']=='B']['rev'].sum()\\\n",
        "          /len(df_active_users_in_group[df_active_users_in_group['grp']=='B'])\n",
        "\n",
        "\n",
        "            arppu_A=df_active_users_in_group[(df_active_users_in_group['grp']=='A')&(df_active_users_in_group['rev'].isna()==False)]['rev'].sum()\\\n",
        "          /len(df_active_users_in_group[(df_active_users_in_group['grp']=='A')&(df_active_users_in_group['rev'].isna()==False)])\n",
        "            arppu_B=df_active_users_in_group[(df_active_users_in_group['grp']=='B')&(df_active_users_in_group['rev'].isna()==False)]['rev'].sum()\\\n",
        "          /len(df_active_users_in_group[(df_active_users_in_group['grp']=='B')&(df_active_users_in_group['rev'].isna()==False)])\n",
        "\n",
        "\n",
        "            cr_to_pay_A=(len(df_active_users_in_group[(df_active_users_in_group['grp']=='A')&\\\n",
        "                                          (df_active_users_in_group['rev'].isna()==False)])\\\n",
        "             /len(df_active_users_in_group[(df_active_users_in_group['grp']=='A')]))*100\n",
        "\n",
        "            cr_to_pay_B==(len(df_active_users_in_group[(df_active_users_in_group['grp']=='B')&\\\n",
        "                                          (df_active_users_in_group['rev'].isna()==False)])\\\n",
        "             /len(df_active_users_in_group[(df_active_users_in_group['grp']=='B')]))*100\n",
        "\n",
        "\n",
        "            describe_A=df_active_users_in_group[df_active_users_in_group['grp']=='A']['rev'].\\\n",
        "            describe().to_frame()\n",
        "            describe_B=df_active_users_in_group[df_active_users_in_group['grp']=='B']['rev'].\\\n",
        "            describe().to_frame()\n",
        "            return  arpu_A,arpu_B,arppu_A,arppu_B,cr_to_pay_A,cr_to_pay_B,describe_A,describe_B,df_active_users_in_group"
      ]
    },
    {
      "cell_type": "markdown",
      "metadata": {
        "id": "BKYvbO5RKmez"
      },
      "source": [
        "### Напишем функцию, которая будет присваивать метрикам соответствующие значения из функции по пересчёту метрик и выводить их в print"
      ]
    },
    {
      "cell_type": "code",
      "execution_count": 85,
      "metadata": {
        "id": "Pac6Xp0bKmez"
      },
      "outputs": [],
      "source": [
        "def new_metrics(groups,path_add_df):\n",
        "    #ARPU\n",
        "    #ARPPU\n",
        "    #ARPAU\n",
        "    #cr в оплату\n",
        "    #cr в активных\n",
        "    #cr активных в оплату\n",
        "    #describe\n",
        "\n",
        "    arpu_A,arpu_B,arppu_A,arppu_B,cr_to_pay_A,cr_to_pay_B,describe_A,describe_B,df_active_users_in_group=\\\n",
        "                    load_and_update_df(groups,path_add_df)\n",
        "    print('')\n",
        "    print(\"ARPU\")\n",
        "    print(f'ARPU_A= {arpu_A}, ARPU_B= {arpu_B}')\n",
        "    print('')\n",
        "    print(\"ARPPU\")\n",
        "    print(f'arppu_A= {arppu_A}, arppu_B= {arppu_B}')\n",
        "    print('')\n",
        "    print('CR')\n",
        "    print('cr_to_pay')\n",
        "    print(f'cr_to_pay_A= {cr_to_pay_A}, cr_to_pay_B= {cr_to_pay_B}')\n",
        "    print('')\n",
        "    print('Описательная Статистика group_A по доходам')\n",
        "    print(describe_A)\n",
        "    print('')\n",
        "    print('Описательная Статистика group_B по доходам')\n",
        "    print(describe_B)"
      ]
    },
    {
      "cell_type": "code",
      "execution_count": 86,
      "metadata": {
        "colab": {
          "base_uri": "https://localhost:8080/"
        },
        "id": "RrQFn2kMKmez",
        "outputId": "b52e0bef-3b73-46ee-9fd5-71e5544cf74c"
      },
      "outputs": [
        {
          "output_type": "stream",
          "name": "stdout",
          "text": [
            "\n",
            "ARPU\n",
            "ARPU_A= 47.34720416124838, ARPU_B= 58.058798103777754\n",
            "\n",
            "ARPPU\n",
            "arppu_A= 933.5897435897435, arppu_B= 1257.8789920382164\n",
            "\n",
            "CR\n",
            "cr_to_pay\n",
            "cr_to_pay_A= 5.071521456436931, cr_to_pay_B= 4.607684380980421\n",
            "\n",
            "Описательная Статистика group_A по доходам\n",
            "               rev\n",
            "count    78.000000\n",
            "mean    933.589744\n",
            "std     919.932711\n",
            "min     199.000000\n",
            "25%     290.000000\n",
            "50%     585.000000\n",
            "75%    1114.750000\n",
            "max    3660.000000\n",
            "\n",
            "Описательная Статистика group_B по доходам\n",
            "               rev\n",
            "count   314.000000\n",
            "mean   1257.878992\n",
            "std     790.864254\n",
            "min     199.000000\n",
            "25%     511.750000\n",
            "50%    1140.000000\n",
            "75%    1900.000000\n",
            "max    4650.000000\n"
          ]
        }
      ],
      "source": [
        "new_metrics(groups,path_add_df)"
      ]
    },
    {
      "cell_type": "markdown",
      "metadata": {
        "id": "MQ1nmTFHKmez"
      },
      "source": [
        "### Реализуйте функцию, которая будет строить графики по получаемым метрикам."
      ]
    },
    {
      "cell_type": "code",
      "execution_count": 87,
      "metadata": {
        "id": "5AagBIJJKme0"
      },
      "outputs": [],
      "source": [
        "def new_grafics(groups,path_add_df):\n",
        "    arpu_A,arpu_B,arppu_A,arppu_B,cr_to_pay_A,cr_to_pay_B,describe_A,describe_B,df_active_users_in_group=load_and_update_df(groups,path_add_df)\n",
        "\n",
        "\n",
        "    fig, axes = plt.subplots(1,2, figsize=(10, 4))\n",
        "    sns.barplot(x='grp', y='arpu', data=pd.DataFrame([['arpu_A',arpu_A],['arpu_B',arpu_B]], columns=['grp', 'arpu']),ax=axes[0])\n",
        "    axes[0].set_title('ARPU', fontsize=16)\n",
        "    sns.barplot(x='grp', y='arppu', data=pd.DataFrame([['arppu_A',arppu_A],['arppu_B',arppu_B]], columns=['grp', 'arppu']),ax=axes[1])\n",
        "    axes[1].set_title('ARPPU', fontsize=16)\n",
        "\n",
        "    fig, axes = plt.subplots(figsize=(10, 4))\n",
        "    sns.barplot(x='grp', y='cr_pay', data=pd.DataFrame([['cr_pay_A',cr_to_pay_A],['cr_pay_B',cr_to_pay_B]], columns=['grp', 'cr_pay']))\n",
        "    plt.title('cr_pay', fontsize=16)\n",
        "\n",
        "\n",
        "    group_A = df_active_users_in_group[df_active_users_in_group['grp'] == 'A']['rev'].dropna()\n",
        "    group_B = df_active_users_in_group[df_active_users_in_group['grp'] == 'B']['rev'].dropna()\n",
        "\n",
        "    fig, axes = plt.subplots(1,2, figsize=(10, 4))\n",
        "    sns.histplot(group_A,ax=axes[0])\n",
        "    axes[0].set_title('REVENUE', fontsize=16)\n",
        "    sns.histplot(group_B,ax=axes[1])\n",
        "    axes[1].set_title('REVENUE', fontsize=16);"
      ]
    },
    {
      "cell_type": "code",
      "execution_count": 88,
      "metadata": {
        "colab": {
          "base_uri": "https://localhost:8080/",
          "height": 1000
        },
        "id": "uq6xukPoKme0",
        "outputId": "6c407f0d-0b07-4792-d477-1613218fcfd7"
      },
      "outputs": [
        {
          "output_type": "display_data",
          "data": {
            "text/plain": [
              "<Figure size 1000x400 with 2 Axes>"
            ],
            "image/png": "[encoded data removed]"
          },
          "metadata": {}
        },
        {
          "output_type": "display_data",
          "data": {
            "text/plain": [
              "<Figure size 1000x400 with 1 Axes>"
            ],
            "image/png": "[encoded data removed]"
          },
          "metadata": {}
        },
        {
          "output_type": "display_data",
          "data": {
            "text/plain": [
              "<Figure size 1000x400 with 2 Axes>"
            ],
            "image/png": "[encoded data removed]"
          },
          "metadata": {}
        }
      ],
      "source": [
        "new_grafics(groups,path_add_df)"
      ]
    },
    {
      "cell_type": "markdown",
      "metadata": {
        "id": "MmGrufj5Kme0"
      },
      "source": [
        "# Задание 2. SQL\n",
        "\n",
        "### 2.1.2 Задача\n",
        "Необходимо написать оптимальный запрос, который даст информацию о количестве очень усердных студентов.NB! Под усердным студентом мы понимаем студента, который правильно решил 20 задач за текущий месяц."
      ]
    },
    {
      "cell_type": "markdown",
      "metadata": {
        "id": "nhq0pKCwKme0"
      },
      "source": [
        "### 1 задание (если бы в таблице период был бы несколько месяцев)\n",
        "\n",
        "select count(distinct(a.st_id)) as count_student_correct_20\n",
        "From (SELECT EXTRACT(year FROM timest) AS Год,\n",
        "       EXTRACT(month FROM timest) AS Месяц,\n",
        "       st_id,count(correct) as count_correct\n",
        "from peas\n",
        "where correct=true\n",
        "group by 1,2,3\n",
        "having count(correct)>=20) as a\n",
        "\n",
        "### или (т.к. в данных период 1 месяц)\n",
        "\n",
        "Select count(distinct(a.st_id))\n",
        "from (SELECT st_id,count(correct)\n",
        "from peas\n",
        "where correct=True\n",
        "group by st_id\n",
        "having count(correct)>=20\n",
        "order by st_id) as a\n"
      ]
    },
    {
      "cell_type": "markdown",
      "metadata": {
        "id": "xlAAmfnwKme0"
      },
      "source": [
        "### 2.2.2 Задача\n",
        "\n",
        "Необходимо в одном запросе выгрузить следующую информацию о группах пользователей:\n",
        "\n",
        "   - ARPU\n",
        "\n",
        "   - ARPAU\n",
        "\n",
        "   - CR в покупку\n",
        "\n",
        "   - СR активного пользователя в покупку\n",
        "\n",
        "   - CR пользователя из активности по математике (subject = ’math’) в покупку курса по математике\n",
        "\n",
        "ARPU считается относительно всех пользователей, попавших в группы.\n",
        "\n",
        "Активным считается пользователь, за все время решивший больше 10 задач правильно в любых дисциплинах.\n",
        "\n",
        "Активным по математике считается пользователь, за все время решивший 2 или больше задач правильно по математике."
      ]
    },
    {
      "cell_type": "markdown",
      "metadata": {
        "id": "ccnyneNOKme0"
      },
      "source": [
        "with active as (select peas.st_id\n",
        "from peas\n",
        "where peas.correct=true\n",
        "group by peas.st_id\n",
        "having count(correct)>10)\n",
        "\n",
        "\n",
        "\n",
        "Select arpu.test_grp,arpu.count_all,arpu.arpu,arpau.arpau,arpau.count_pay_active::float/arpu.count_all*100 as cr_pay,arpau.count_pay_active::float/arpau.count_active_users*100 as cr_active_pay,\n",
        "math.CR_math as cr_math\n",
        "from(\n",
        "Select studs.test_grp,count(distinct(studs.st_id)) as count_all,sum(final_project_check.money) as sum_all,sum(final_project_check.money)/count(distinct(studs.st_id)) as arpu\n",
        "from studs\n",
        "left join final_project_check on final_project_check.st_id=studs.st_id\n",
        "group by studs.test_grp) as arpu\n",
        "\n",
        "join\n",
        "(select t1.test_grp,t2.count_pay_active,t1.count_active_users,t1.sum_active,t1.ARPAU\n",
        "from(\n",
        "select studs.test_grp,count(distinct(active.st_id)) as count_active_users,sum(final_project_check.money) as sum_active,sum(final_project_check.money)::float/count(distinct(active.st_id)) as ARPAU\n",
        "from studs\n",
        "left join final_project_check on final_project_check.st_id=studs.st_id\n",
        "right join active on active.st_id=studs.st_id\n",
        "group by studs.test_grp) as t1\n",
        "join (select studs.test_grp,count(distinct(studs.st_id)) as count_pay_active\n",
        "from studs\n",
        "left join final_project_check on final_project_check.st_id=studs.st_id\n",
        "right join active on active.st_id=studs.st_id\n",
        "where final_project_check.money is not null\n",
        "group by studs.test_grp) as t2 on t2.test_grp=t1.test_grp) as arpau on arpau.test_grp=arpu.test_grp\n",
        "\n",
        "join\n",
        "(Select studs.test_grp,count(distinct(math.st_id)) as count_math,count(sum_math) as count_math_pay,count(sum_math)::float/count(distinct(math.st_id))*100 as CR_math\n",
        "from (select peas.st_id,count(correct),sum(final_project_check.money) as sum_math\n",
        "from peas\n",
        "left join final_project_check on final_project_check.st_id=peas.st_id\n",
        "where peas.correct=true and peas.subject='Math'\n",
        "group by peas.st_id\n",
        "having count(correct)>=2) as math\n",
        "left join studs on studs.st_id=math.st_id\n",
        "group by studs.test_grp) as math on math.test_grp=arpu.test_grp\n"
      ]
    }
  ],
  "metadata": {
    "kernelspec": {
      "display_name": "Python 3",
      "language": "python",
      "name": "python3"
    },
    "language_info": {
      "codemirror_mode": {
        "name": "ipython",
        "version": 3
      },
      "file_extension": ".py",
      "mimetype": "text/x-python",
      "name": "python",
      "nbconvert_exporter": "python",
      "pygments_lexer": "ipython3",
      "version": "3.7.3"
    },
    "colab": {
      "provenance": [],
      "include_colab_link": true
    }
  },
  "nbformat": 4,
  "nbformat_minor": 0
}