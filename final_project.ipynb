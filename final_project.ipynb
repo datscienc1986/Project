{
 "cells": [
  {
   "cell_type": "markdown",
   "metadata": {},
   "source": [
    "# Проект: вариант 2\n",
    "\n",
    "###  Задание 1 A/B–тестирование\n",
    "\n",
    "     1.1 Условие\n",
    "\n",
    "Одной из основных задач аналитика в нашей команде является корректное проведение экспериментов. Для этого мы применяем метод A/B–тестирования. В ходе тестирования одной гипотезы целевой группе была предложена новая механика оплаты услуг на сайте, у контрольной группы оставалась базовая механика. В качестве задания вам необходимо проанализировать итоги эксперимента и сделать вывод, стоит ли запускать новую механику оплаты на всех пользователей.\n",
    "\n",
    "     1.2 Входные данные\n",
    "\n",
    "В качестве входных данных вы имеете 4 csv-файла:\n",
    "\n",
    "- groups.csv – файл с информацией о принадлежности пользователя к контрольной или экспериментальной группе (А – контроль, B – целевая группа) \n",
    "- groups_add.csv – дополнительный файл с пользователями, который вам прислали спустя 2 дня после передачи данных\n",
    "- active_studs.csv – файл с информацией о пользователях, которые зашли на платформу в дни проведения эксперимента. \n",
    "- checks.csv – файл с информацией об оплатах пользователей в дни проведения эксперимента. \n",
    "\n",
    "     1.3 Вопросы\n",
    "\n",
    "Предлагаем вам ответить на следующие вопросы:\n",
    "\n",
    "   - На какие метрики вы смотрите в ходе анализа и почему?\n",
    "   - Имеются ли различия в показателях и с чем они могут быть связаны?\n",
    "   - Являются ли эти различия статистически значимыми?\n",
    "   - Стоит ли запускать новую механику на всех пользователей?\n",
    "   - Данный список вопросов не является обязательным, и вы можете при своём ответе опираться на собственный план.\n",
    "\n",
    "    1.4 Требования к ответу\n",
    "\n",
    "При выполнении тестового задания необходимо использовать язык программирования Python. \n",
    "В файле обязательно должны быть комментарии к тем действиям, которые вы выполняете с данными. \n",
    "Файл должен представлять собой законченный отчёт с выводами, сделанными в ходе исследования.\n",
    "\n",
    "### Задание 2. SQL\n",
    "\n",
    "    2.1 Очень усердные ученики.\n",
    "\n",
    "    - 2.1.1 Условие\n",
    "\n",
    "Образовательные курсы состоят из различных уроков, каждый из которых состоит из нескольких маленьких заданий. Каждое такое маленькое задание называется \"горошиной\".\n",
    "\n",
    "Назовём очень усердным учеником того пользователя, который хотя бы раз за текущий месяц правильно решил 20 горошин.\n",
    "\n",
    "    - 2.1.2 Задача\n",
    "\n",
    "Дана таблица peas:\n",
    "\n",
    "Необходимо написать оптимальный запрос, который даст информацию о количестве очень усердных студентов.NB! Под усердным студентом мы понимаем студента, который правильно решил 20 задач за текущий месяц.\n",
    "\n",
    "    2.2 Оптимизация воронки\n",
    "\n",
    "    - 2.2.1 Условие\n",
    "\n",
    "Образовательная платформа предлагает пройти студентам курсы по модели trial: студент может решить бесплатно лишь 30 горошин в день. Для неограниченного количества заданий в определенной дисциплине студенту необходимо приобрести полный доступ. Команда провела эксперимент, где был протестирован новый экран оплаты.\n",
    "\n",
    "    - 2.2.2 Задача\n",
    "    \n",
    "Необходимо в одном запросе выгрузить следующую информацию о группах пользователей:\n",
    "\n",
    "   - ARPU \n",
    "   - ARPAU \n",
    "   - CR в покупку \n",
    "   - СR активного пользователя в покупку \n",
    "   - CR пользователя из активности по математике (subject = ’math’) в покупку курса по математике\n",
    "    \n",
    "ARPU считается относительно всех пользователей, попавших в группы.\n",
    "Активным считается пользователь, за все время решивший больше 10 задач правильно в любых дисциплинах.\n",
    "Активным по математике считается пользователь, за все время решивший 2 или больше задач правильно по математике.\n",
    "\n",
    "\n",
    "### Задание 3. Python\n",
    "\n",
    "**3.1 Задача**\n",
    "\n",
    "    Реализуйте функцию, которая будет автоматически подгружать информацию из дополнительного файла groups_add.csv (заголовки могут отличаться) и на основании дополнительных параметров пересчитывать метрики.\n",
    "\n",
    "    Реализуйте функцию, которая будет строить графики по получаемым метрикам."
   ]
  },
  {
   "cell_type": "markdown",
   "metadata": {},
   "source": [
    "## Комментарий:\n",
    "## Т.к. в задании 1 не указано, когда нужно добавлять groups_add, то принято решение, что основной анализ будет делаться без этого файла, а он будет использован только в функции в задании 3"
   ]
  },
  {
   "cell_type": "markdown",
   "metadata": {},
   "source": [
    "### Задание 1 A/B–тестирование"
   ]
  },
  {
   "cell_type": "code",
   "execution_count": 453,
   "metadata": {},
   "outputs": [],
   "source": [
    "import pandas as pd\n",
    "import numpy as np\n",
    "import matplotlib.pyplot as plt\n",
    "import seaborn as sns\n",
    "from scipy import stats"
   ]
  },
  {
   "cell_type": "markdown",
   "metadata": {},
   "source": [
    "**ДАННЫЕ.**\n",
    "\n",
    "    groups.csv        – файл с информацией о принадлежности пользователя к контрольной или экспериментальной группе (А – контроль, B–целевая группа) \n",
    "    groups_add.csv    – дополнительный файл с пользователями, который вам прислали спустя 2 дня после передачи данных\n",
    "    active_studs.csv  – файл с информацией о пользователях, которые зашли на платформу в дни проведения эксперимента. \n",
    "    checks.csv        – файл с информацией об оплатах пользователей в дни проведения эксперимента. "
   ]
  },
  {
   "cell_type": "code",
   "execution_count": 454,
   "metadata": {},
   "outputs": [],
   "source": [
    "active_studs=pd.read_csv('Проект_2_active_studs.csv')\n",
    "checks=pd.read_csv('Проект_2_checks.csv',sep=';')\n",
    "group_add=pd.read_csv('Проект_2_group_add.csv')\n",
    "groups=pd.read_csv('Проект_2_groups.csv',sep=';')"
   ]
  },
  {
   "cell_type": "markdown",
   "metadata": {},
   "source": [
    "Проверим, как выглядят наши данные, есть ли нулевые значения и дубликаты и приведём их к единообразию для объединения"
   ]
  },
  {
   "cell_type": "code",
   "execution_count": 455,
   "metadata": {},
   "outputs": [
    {
     "name": "stdout",
     "output_type": "stream",
     "text": [
      "<class 'pandas.core.frame.DataFrame'>\n",
      "RangeIndex: 92 entries, 0 to 91\n",
      "Data columns (total 2 columns):\n",
      " #   Column  Non-Null Count  Dtype \n",
      "---  ------  --------------  ----- \n",
      " 0   id      92 non-null     int64 \n",
      " 1   grp     92 non-null     object\n",
      "dtypes: int64(1), object(1)\n",
      "memory usage: 1.6+ KB\n"
     ]
    }
   ],
   "source": [
    "group_add.info()"
   ]
  },
  {
   "cell_type": "code",
   "execution_count": 456,
   "metadata": {},
   "outputs": [
    {
     "name": "stdout",
     "output_type": "stream",
     "text": [
      "<class 'pandas.core.frame.DataFrame'>\n",
      "RangeIndex: 74484 entries, 0 to 74483\n",
      "Data columns (total 2 columns):\n",
      " #   Column  Non-Null Count  Dtype \n",
      "---  ------  --------------  ----- \n",
      " 0   id      74484 non-null  int64 \n",
      " 1   grp     74484 non-null  object\n",
      "dtypes: int64(1), object(1)\n",
      "memory usage: 1.1+ MB\n"
     ]
    }
   ],
   "source": [
    "groups.info()"
   ]
  },
  {
   "cell_type": "code",
   "execution_count": 457,
   "metadata": {},
   "outputs": [
    {
     "name": "stdout",
     "output_type": "stream",
     "text": [
      "<class 'pandas.core.frame.DataFrame'>\n",
      "RangeIndex: 8341 entries, 0 to 8340\n",
      "Data columns (total 1 columns):\n",
      " #   Column      Non-Null Count  Dtype\n",
      "---  ------      --------------  -----\n",
      " 0   student_id  8341 non-null   int64\n",
      "dtypes: int64(1)\n",
      "memory usage: 65.3 KB\n"
     ]
    }
   ],
   "source": [
    "active_studs.info()"
   ]
  },
  {
   "cell_type": "code",
   "execution_count": 458,
   "metadata": {},
   "outputs": [
    {
     "name": "stdout",
     "output_type": "stream",
     "text": [
      "<class 'pandas.core.frame.DataFrame'>\n",
      "RangeIndex: 541 entries, 0 to 540\n",
      "Data columns (total 2 columns):\n",
      " #   Column      Non-Null Count  Dtype  \n",
      "---  ------      --------------  -----  \n",
      " 0   student_id  541 non-null    int64  \n",
      " 1   rev         541 non-null    float64\n",
      "dtypes: float64(1), int64(1)\n",
      "memory usage: 8.6 KB\n"
     ]
    }
   ],
   "source": [
    "checks.info()"
   ]
  },
  {
   "cell_type": "markdown",
   "metadata": {},
   "source": [
    "Нулевых значений нет"
   ]
  },
  {
   "cell_type": "markdown",
   "metadata": {},
   "source": [
    "Изменяем наименования колонок для единообразия в checks , для дальнейшего объединения данных"
   ]
  },
  {
   "cell_type": "code",
   "execution_count": 459,
   "metadata": {},
   "outputs": [],
   "source": [
    "checks=checks.rename(columns={'student_id':'id'})"
   ]
  },
  {
   "cell_type": "code",
   "execution_count": 460,
   "metadata": {},
   "outputs": [],
   "source": [
    "active_studs=active_studs.rename(columns={'student_id':'id'})"
   ]
  },
  {
   "cell_type": "markdown",
   "metadata": {},
   "source": [
    "Проверяем на наличие дубликатов student_id в checks"
   ]
  },
  {
   "cell_type": "code",
   "execution_count": 461,
   "metadata": {},
   "outputs": [
    {
     "data": {
      "text/plain": [
       "0"
      ]
     },
     "execution_count": 461,
     "metadata": {},
     "output_type": "execute_result"
    }
   ],
   "source": [
    "checks.id.duplicated().sum()"
   ]
  },
  {
   "cell_type": "markdown",
   "metadata": {},
   "source": [
    "Проверяем на наличие дубликатов id в groups"
   ]
  },
  {
   "cell_type": "code",
   "execution_count": 462,
   "metadata": {},
   "outputs": [
    {
     "data": {
      "text/plain": [
       "0"
      ]
     },
     "execution_count": 462,
     "metadata": {},
     "output_type": "execute_result"
    }
   ],
   "source": [
    "groups.id.duplicated().sum()"
   ]
  },
  {
   "cell_type": "markdown",
   "metadata": {},
   "source": [
    "Проверяем на наличие дубликатов id в group_add"
   ]
  },
  {
   "cell_type": "code",
   "execution_count": 463,
   "metadata": {},
   "outputs": [
    {
     "data": {
      "text/plain": [
       "0"
      ]
     },
     "execution_count": 463,
     "metadata": {},
     "output_type": "execute_result"
    }
   ],
   "source": [
    "group_add.id.duplicated().sum()"
   ]
  },
  {
   "cell_type": "markdown",
   "metadata": {},
   "source": [
    "Проверяем на наличие одинаковых id в groups и  group_add "
   ]
  },
  {
   "cell_type": "code",
   "execution_count": 464,
   "metadata": {},
   "outputs": [],
   "source": [
    "duble_groups_group_add = groups.merge(group_add, on='id', how='outer', suffixes=['', 'ADD'], indicator=True)"
   ]
  },
  {
   "cell_type": "code",
   "execution_count": 465,
   "metadata": {},
   "outputs": [
    {
     "data": {
      "text/html": [
       "<div>\n",
       "<style scoped>\n",
       "    .dataframe tbody tr th:only-of-type {\n",
       "        vertical-align: middle;\n",
       "    }\n",
       "\n",
       "    .dataframe tbody tr th {\n",
       "        vertical-align: top;\n",
       "    }\n",
       "\n",
       "    .dataframe thead th {\n",
       "        text-align: right;\n",
       "    }\n",
       "</style>\n",
       "<table border=\"1\" class=\"dataframe\">\n",
       "  <thead>\n",
       "    <tr style=\"text-align: right;\">\n",
       "      <th></th>\n",
       "      <th>id</th>\n",
       "      <th>grp</th>\n",
       "      <th>grpADD</th>\n",
       "      <th>_merge</th>\n",
       "    </tr>\n",
       "  </thead>\n",
       "  <tbody>\n",
       "  </tbody>\n",
       "</table>\n",
       "</div>"
      ],
      "text/plain": [
       "Empty DataFrame\n",
       "Columns: [id, grp, grpADD, _merge]\n",
       "Index: []"
      ]
     },
     "execution_count": 465,
     "metadata": {},
     "output_type": "execute_result"
    }
   ],
   "source": [
    "duble_groups_group_add[duble_groups_group_add['_merge']=='both']"
   ]
  },
  {
   "cell_type": "markdown",
   "metadata": {},
   "source": [
    "**Дубликатов в данных нет**"
   ]
  },
  {
   "cell_type": "markdown",
   "metadata": {},
   "source": [
    "Объединяем датафреймы"
   ]
  },
  {
   "cell_type": "code",
   "execution_count": 466,
   "metadata": {},
   "outputs": [],
   "source": [
    "df_all=groups.merge(active_studs,on='id',how='outer',indicator=True)"
   ]
  },
  {
   "cell_type": "markdown",
   "metadata": {},
   "source": [
    "Смотрим, какие id есть во фрейме active_studs (пользователи, которые зашли на платформу),  но их нет во фрейме groups\n",
    "Значит есть пользователи, которые были активными, но не попали ни в одну из групп для анализа."
   ]
  },
  {
   "cell_type": "code",
   "execution_count": 467,
   "metadata": {},
   "outputs": [
    {
     "data": {
      "text/plain": [
       "74484    5723133\n",
       "74485    5951797\n",
       "74486    5730382\n",
       "74487    5739944\n",
       "74488    5945085\n",
       "74489    5700613\n",
       "74490    5729371\n",
       "74491    5777081\n",
       "74492    5740903\n",
       "74493    5760471\n",
       "74494    5728431\n",
       "74495    5723648\n",
       "74496    5870856\n",
       "Name: id, dtype: int64"
      ]
     },
     "execution_count": 467,
     "metadata": {},
     "output_type": "execute_result"
    }
   ],
   "source": [
    "df_all[df_all['_merge']=='right_only']['id']"
   ]
  },
  {
   "cell_type": "markdown",
   "metadata": {},
   "source": [
    "Есть пользователь. который был активным, оплатил , но не вошёл в группы для анализа"
   ]
  },
  {
   "cell_type": "code",
   "execution_count": 468,
   "metadata": {},
   "outputs": [
    {
     "data": {
      "text/plain": [
       "540    5740903\n",
       "Name: id, dtype: int64"
      ]
     },
     "execution_count": 468,
     "metadata": {},
     "output_type": "execute_result"
    }
   ],
   "source": [
    "checks[checks['id'].isin(df_all[df_all['_merge']=='right_only']['id'])==True]['id']"
   ]
  },
  {
   "cell_type": "markdown",
   "metadata": {},
   "source": [
    "Объединяем датафрейм с пользователями из эксперимента и активными пользователями, чтобы выявить, есть ли активные пользователи, не входящие в экмперимент"
   ]
  },
  {
   "cell_type": "code",
   "execution_count": 469,
   "metadata": {},
   "outputs": [],
   "source": [
    "df_users_in_group=groups.merge(active_studs, on='id', how='outer', indicator=True)"
   ]
  },
  {
   "cell_type": "markdown",
   "metadata": {},
   "source": [
    "создадим датафрейм, где все пользователи, которые есть в группе по тестированию,не зависимо, заходили в систему(active) или нет(no_active)"
   ]
  },
  {
   "cell_type": "code",
   "execution_count": 470,
   "metadata": {},
   "outputs": [],
   "source": [
    "df_active_users_in_group=df_users_in_group[df_users_in_group['_merge']!='right_only']"
   ]
  },
  {
   "cell_type": "markdown",
   "metadata": {},
   "source": [
    "Посмотрим пользователей активных, которые есть в группе по эксперименту и заходили в систему"
   ]
  },
  {
   "cell_type": "code",
   "execution_count": 471,
   "metadata": {},
   "outputs": [
    {
     "data": {
      "text/plain": [
       "(8328, 3)"
      ]
     },
     "execution_count": 471,
     "metadata": {},
     "output_type": "execute_result"
    }
   ],
   "source": [
    "df_active_users_in_group[df_active_users_in_group['_merge']=='both'].shape"
   ]
  },
  {
   "cell_type": "markdown",
   "metadata": {},
   "source": [
    "Переименнуем название колонки _merge в status"
   ]
  },
  {
   "cell_type": "code",
   "execution_count": 472,
   "metadata": {},
   "outputs": [],
   "source": [
    "df_active_users_in_group=df_active_users_in_group.rename(columns={'_merge':'status'})"
   ]
  },
  {
   "cell_type": "markdown",
   "metadata": {},
   "source": [
    "Заменим значения в колонке status (left_only':'no_active')('both':'active').\n",
    "теперь мы видим активных и не активных пользователей в группах"
   ]
  },
  {
   "cell_type": "code",
   "execution_count": 473,
   "metadata": {},
   "outputs": [],
   "source": [
    "df_active_users_in_group['status']=np.where(df_active_users_in_group['status']=='left_only','no_active','active')"
   ]
  },
  {
   "cell_type": "code",
   "execution_count": 474,
   "metadata": {},
   "outputs": [
    {
     "data": {
      "text/plain": [
       "(66156, 3)"
      ]
     },
     "execution_count": 474,
     "metadata": {},
     "output_type": "execute_result"
    }
   ],
   "source": [
    "df_active_users_in_group[df_active_users_in_group['status']=='no_active'].shape"
   ]
  },
  {
   "cell_type": "markdown",
   "metadata": {},
   "source": [
    "Добавляем к пользователям, которые учавствуют в эксперименте оплаты"
   ]
  },
  {
   "cell_type": "code",
   "execution_count": 475,
   "metadata": {},
   "outputs": [],
   "source": [
    "df_active_users_in_group=df_active_users_in_group.merge(checks,on='id',how='left')"
   ]
  },
  {
   "cell_type": "markdown",
   "metadata": {},
   "source": [
    "Проверим, как ведут себя пользователи в группах(оплатили-не зашли, оплатили-зашли, не оплатили-зашли, не оплатили-не зашли)"
   ]
  },
  {
   "cell_type": "code",
   "execution_count": 476,
   "metadata": {},
   "outputs": [
    {
     "data": {
      "text/plain": [
       "(66156, 4)"
      ]
     },
     "execution_count": 476,
     "metadata": {},
     "output_type": "execute_result"
    }
   ],
   "source": [
    "df_active_users_in_group[(df_active_users_in_group['status']=='no_active')].shape"
   ]
  },
  {
   "cell_type": "code",
   "execution_count": 477,
   "metadata": {},
   "outputs": [],
   "source": [
    "#(149 пользователей    оплатили и не зашли в систему) Их необходимо убрать из данных, т.к. они не должны были попасть в эксперимент\n",
    "#(391 пользователь     оплатил и зашёл в систему)\n",
    "#(7937 пользователя    не оплатили и зашли в систему)\n",
    "#(66007 пользователя   не оплатили и не зашли в систему)"
   ]
  },
  {
   "cell_type": "code",
   "execution_count": 478,
   "metadata": {},
   "outputs": [
    {
     "data": {
      "text/plain": [
       "(149, 4)"
      ]
     },
     "execution_count": 478,
     "metadata": {},
     "output_type": "execute_result"
    }
   ],
   "source": [
    "df_active_users_in_group[(df_active_users_in_group['status']=='no_active')&(df_active_users_in_group['rev'].isna()==False)].shape"
   ]
  },
  {
   "cell_type": "code",
   "execution_count": 479,
   "metadata": {},
   "outputs": [
    {
     "data": {
      "text/plain": [
       "(7937, 4)"
      ]
     },
     "execution_count": 479,
     "metadata": {},
     "output_type": "execute_result"
    }
   ],
   "source": [
    "df_active_users_in_group[(df_active_users_in_group['status']=='active')&(df_active_users_in_group['rev'].isna()==True)].shape"
   ]
  },
  {
   "cell_type": "code",
   "execution_count": 480,
   "metadata": {},
   "outputs": [
    {
     "data": {
      "text/plain": [
       "(391, 4)"
      ]
     },
     "execution_count": 480,
     "metadata": {},
     "output_type": "execute_result"
    }
   ],
   "source": [
    "df_active_users_in_group[(df_active_users_in_group['status']=='active')&(df_active_users_in_group['rev'].isna()==False)].shape"
   ]
  },
  {
   "cell_type": "code",
   "execution_count": 481,
   "metadata": {},
   "outputs": [
    {
     "data": {
      "text/plain": [
       "(66007, 4)"
      ]
     },
     "execution_count": 481,
     "metadata": {},
     "output_type": "execute_result"
    }
   ],
   "source": [
    "df_active_users_in_group[(df_active_users_in_group['status']=='no_active')&(df_active_users_in_group['rev'].isna()==True)].shape"
   ]
  },
  {
   "cell_type": "markdown",
   "metadata": {},
   "source": [
    "Оставляем только активных пользователей, т.к. они видели новую механику оплаты"
   ]
  },
  {
   "cell_type": "code",
   "execution_count": 482,
   "metadata": {},
   "outputs": [],
   "source": [
    "df_active_users_in_group=df_active_users_in_group[df_active_users_in_group['status']=='active']"
   ]
  },
  {
   "cell_type": "markdown",
   "metadata": {},
   "source": [
    "## Метрики:\n",
    "\n",
    "- выручка - показывает распределение выручки в каждой группе\n",
    "- ARPU - сколько пользователь в среднем тратит за определённый период времени. Представляет собой выручку, полученную от клиента за определённый период времени, обычно за месяц 1. Для расчёта метрики берут в учёт всю аудиторию, а не только покупателей)\n",
    "- ARPPU - средний доход с платящего пользователя, фокусируется исключительно на клиентах, совершивших покупку. Показатель учитывает только тех, кто произвёл покупку или совершил платёж\n",
    "- cr to pay - коэффициент конверсии в платящих пользователей (CR to Pay или Conversion Rate to Paying Users) — это метрика, которая показывает, какой процент пользователей, взаимодействующих с вашим продуктом или услугой, становится платящими.\n",
    "\n",
    "Чтобы понять, насколько продуктивна новая механика, необходимо рассчитать ARPPU и ARPU и CR_to_pay\n"
   ]
  },
  {
   "cell_type": "markdown",
   "metadata": {},
   "source": [
    "### ARPU\n",
    "\n",
    "сколько пользователь в среднем тратит за определённый период времени. Представляет собой выручку, полученную от клиента за определённый период времени, обычно за месяц 1. "
   ]
  },
  {
   "cell_type": "code",
   "execution_count": 483,
   "metadata": {},
   "outputs": [],
   "source": [
    "arpu_A=df_active_users_in_group[df_active_users_in_group['grp']=='A']['rev'].sum()\\\n",
    "  /len(df_active_users_in_group[df_active_users_in_group['grp']=='A'])"
   ]
  },
  {
   "cell_type": "code",
   "execution_count": 484,
   "metadata": {},
   "outputs": [],
   "source": [
    "arpu_B=df_active_users_in_group[df_active_users_in_group['grp']=='B']['rev'].sum()\\\n",
    "  /len(df_active_users_in_group[df_active_users_in_group['grp']=='B'])"
   ]
  },
  {
   "cell_type": "code",
   "execution_count": 485,
   "metadata": {},
   "outputs": [
    {
     "name": "stdout",
     "output_type": "stream",
     "text": [
      "47.43973941368078 57.86456698071545\n"
     ]
    }
   ],
   "source": [
    "print(arpu_A,arpu_B)\n"
   ]
  },
  {
   "cell_type": "code",
   "execution_count": 486,
   "metadata": {},
   "outputs": [
    {
     "data": {
      "image/png": "[encoded data removed]",
      "text/plain": [
       "<Figure size 432x288 with 1 Axes>"
      ]
     },
     "metadata": {
      "needs_background": "light"
     },
     "output_type": "display_data"
    }
   ],
   "source": [
    "sns.barplot(x='grp', y='arpu', data=pd.DataFrame([['arpu_A',arpu_A],['arpu_B',arpu_B]], columns=['grp', 'arpu']))\n",
    "plt.title('ARPU', fontsize=16);"
   ]
  },
  {
   "cell_type": "markdown",
   "metadata": {},
   "source": [
    "### ARPPU\n",
    "\n",
    "средний доход с платящего пользователя, фокусируется исключительно на клиентах, совершивших покупку.\n",
    "Показатель учитывает только тех, кто произвёл покупку или совершил платёж "
   ]
  },
  {
   "cell_type": "code",
   "execution_count": 487,
   "metadata": {},
   "outputs": [],
   "source": [
    "arppu_A=df_active_users_in_group\\\n",
    "     [(df_active_users_in_group['grp']=='A')&(df_active_users_in_group['rev'].isna()==False)]['rev'].sum()\\\n",
    "  /len(df_active_users_in_group\\\n",
    "     [(df_active_users_in_group['grp']=='A')&(df_active_users_in_group['rev'].isna()==False)])"
   ]
  },
  {
   "cell_type": "code",
   "execution_count": 488,
   "metadata": {},
   "outputs": [],
   "source": [
    "arppu_B=df_active_users_in_group\\\n",
    "     [(df_active_users_in_group['grp']=='B')&(df_active_users_in_group['rev'].isna()==False)]['rev'].sum()\\\n",
    "  /len(df_active_users_in_group\\\n",
    "     [(df_active_users_in_group['grp']=='B')&(df_active_users_in_group['rev'].isna()==False)])"
   ]
  },
  {
   "cell_type": "code",
   "execution_count": 489,
   "metadata": {},
   "outputs": [
    {
     "name": "stdout",
     "output_type": "stream",
     "text": [
      "arppu_A=933.5897435897435, arppu_B=1255.8274872204472\n"
     ]
    }
   ],
   "source": [
    "print(f'arppu_A={arppu_A}, arppu_B={arppu_B}')"
   ]
  },
  {
   "cell_type": "code",
   "execution_count": 490,
   "metadata": {},
   "outputs": [
    {
     "data": {
      "image/png": "[encoded data removed]",
      "text/plain": [
       "<Figure size 432x288 with 1 Axes>"
      ]
     },
     "metadata": {
      "needs_background": "light"
     },
     "output_type": "display_data"
    }
   ],
   "source": [
    "sns.barplot(x='grp', y='arppu', data=pd.DataFrame([['arppu_A',arppu_A],['arppu_B',arppu_B]], columns=['grp', 'arppu']))\n",
    "plt.title('ARPPU', fontsize=16);"
   ]
  },
  {
   "cell_type": "markdown",
   "metadata": {},
   "source": [
    "### cr_to_pay"
   ]
  },
  {
   "cell_type": "code",
   "execution_count": 491,
   "metadata": {},
   "outputs": [],
   "source": [
    "cr_to_pay_A=(len(df_active_users_in_group[(df_active_users_in_group['grp']=='A')&\\\n",
    "                                          (df_active_users_in_group['rev'].isna()==False)])\\\n",
    "             /len(df_active_users_in_group[(df_active_users_in_group['grp']=='A')]))*100"
   ]
  },
  {
   "cell_type": "code",
   "execution_count": 492,
   "metadata": {},
   "outputs": [],
   "source": [
    "cr_to_pay_B=(len(df_active_users_in_group[(df_active_users_in_group['grp']=='B')&\\\n",
    "                                          (df_active_users_in_group['rev'].isna()==False)])\\\n",
    "             /len(df_active_users_in_group[(df_active_users_in_group['grp']=='B')]))*100"
   ]
  },
  {
   "cell_type": "code",
   "execution_count": 493,
   "metadata": {},
   "outputs": [
    {
     "name": "stdout",
     "output_type": "stream",
     "text": [
      "5.081433224755701 4.607684380980421\n"
     ]
    }
   ],
   "source": [
    "print(cr_to_pay_A,cr_to_pay_B)"
   ]
  },
  {
   "cell_type": "code",
   "execution_count": 494,
   "metadata": {},
   "outputs": [
    {
     "data": {
      "image/png": "[encoded data removed]",
      "text/plain": [
       "<Figure size 432x288 with 1 Axes>"
      ]
     },
     "metadata": {
      "needs_background": "light"
     },
     "output_type": "display_data"
    }
   ],
   "source": [
    "sns.barplot(x='grp', y='cr_to_pay', \\\n",
    "            data=pd.DataFrame([['cr_to_pay_A',cr_to_pay_A],['cr_to_pay_B',cr_to_pay_B]], columns=['grp', 'cr_to_pay']));"
   ]
  },
  {
   "cell_type": "markdown",
   "metadata": {},
   "source": [
    "**CR to Pay в группе B ниже, чем в группе A**"
   ]
  },
  {
   "cell_type": "markdown",
   "metadata": {},
   "source": [
    "### Сравним статистику доходов по группам c активными пользователями "
   ]
  },
  {
   "cell_type": "code",
   "execution_count": 495,
   "metadata": {},
   "outputs": [
    {
     "data": {
      "text/plain": [
       "count      78.000000\n",
       "mean      933.589744\n",
       "std       919.932711\n",
       "min       199.000000\n",
       "25%       290.000000\n",
       "50%       585.000000\n",
       "75%      1114.750000\n",
       "max      3660.000000\n",
       "Name: rev, dtype: float64"
      ]
     },
     "execution_count": 495,
     "metadata": {},
     "output_type": "execute_result"
    }
   ],
   "source": [
    "df_active_users_in_group[(df_active_users_in_group['grp']=='A')]['rev'].describe()"
   ]
  },
  {
   "cell_type": "code",
   "execution_count": 496,
   "metadata": {},
   "outputs": [
    {
     "data": {
      "text/plain": [
       "count     313.000000\n",
       "mean     1255.827487\n",
       "std       791.293377\n",
       "min       199.000000\n",
       "25%       489.000000\n",
       "50%      1140.000000\n",
       "75%      1900.000000\n",
       "max      4650.000000\n",
       "Name: rev, dtype: float64"
      ]
     },
     "execution_count": 496,
     "metadata": {},
     "output_type": "execute_result"
    }
   ],
   "source": [
    "df_active_users_in_group[(df_active_users_in_group['grp']=='B')]['rev'].describe()"
   ]
  },
  {
   "cell_type": "markdown",
   "metadata": {},
   "source": [
    "**Исходя из анализа статистических показателей активных пользователей, мы видим, что:**\n",
    "   - в группе B среднее значение доходов Выше, чем в группе А (А_mean=933.58,B_mean=1255.82)\n",
    "   - в группе B стандартное отклонение меньше, чем в группе А (А_std=919.93,B_std=791.29)\n",
    "   - анализируя распределение доходов по квартилям мы видим, что в группе B наблюдаются более высокие значения доходов \n",
    "    \n",
    "    "
   ]
  },
  {
   "cell_type": "markdown",
   "metadata": {},
   "source": [
    "## A/B тестирование\n",
    "- Вывести boxplot для наглядности распределения доходов\n",
    "- Проверка на нормальность распределения групп по доходам\n",
    "- Проверяем гипотезу на то, что в группах нет различий в распределении доходов\n",
    "- Проверяем гипотезу на то, что нет зависимости между группой и оплатой для активных пользователей (cr_to_pay)\n",
    "- Проверим статистическую разницу между группами по в метриках ARPU,ARPPU"
   ]
  },
  {
   "cell_type": "markdown",
   "metadata": {},
   "source": [
    "Создадим два датафрейма с пользователями по группам.\n",
    "Удалим пропущенные значения в группах и оставим колонку с доходами"
   ]
  },
  {
   "cell_type": "code",
   "execution_count": 497,
   "metadata": {},
   "outputs": [],
   "source": [
    "group_A = df_active_users_in_group[df_active_users_in_group['grp'] == 'A']['rev'].dropna()\n",
    "group_B = df_active_users_in_group[df_active_users_in_group['grp'] == 'B']['rev'].dropna()"
   ]
  },
  {
   "cell_type": "markdown",
   "metadata": {},
   "source": [
    "Проверим данные на нормальность распределения"
   ]
  },
  {
   "cell_type": "code",
   "execution_count": 498,
   "metadata": {},
   "outputs": [
    {
     "data": {
      "image/png": "[encoded data removed]",
      "text/plain": [
       "<Figure size 432x288 with 1 Axes>"
      ]
     },
     "metadata": {
      "needs_background": "light"
     },
     "output_type": "display_data"
    }
   ],
   "source": [
    "sns.boxplot(x=group_A)\n",
    "plt.title('Ящик с усами для revenue группа A')\n",
    "plt.show()"
   ]
  },
  {
   "cell_type": "code",
   "execution_count": 499,
   "metadata": {},
   "outputs": [
    {
     "data": {
      "image/png": "[encoded data removed]",
      "text/plain": [
       "<Figure size 432x288 with 1 Axes>"
      ]
     },
     "metadata": {
      "needs_background": "light"
     },
     "output_type": "display_data"
    }
   ],
   "source": [
    "sns.boxplot(x=group_B)\n",
    "plt.title('Ящик с усами для revenue группа B')\n",
    "plt.show()"
   ]
  },
  {
   "cell_type": "markdown",
   "metadata": {},
   "source": [
    "## Проверим на нормальность распределение доходов в группах"
   ]
  },
  {
   "cell_type": "markdown",
   "metadata": {},
   "source": [
    "**Т.к. значений в выборках у нас много, для большей достоверности полученных данных можно использовать тесты:**\n",
    "\n",
    "- Д’Агостино и Пирсона\n",
    " \n",
    "- одновыборочный Колмогорова-Смирнова (Для большей достоверности полученных данных объемы рассматриваемых выборок должен быть достаточно большими: n ≥ 50)"
   ]
  },
  {
   "cell_type": "markdown",
   "metadata": {},
   "source": [
    "Проверим нормальность распределения через тест Д’Агостино и Пирсона"
   ]
  },
  {
   "cell_type": "code",
   "execution_count": 500,
   "metadata": {},
   "outputs": [
    {
     "name": "stdout",
     "output_type": "stream",
     "text": [
      "Отклоняем H0, данные распределены не нормально\n"
     ]
    }
   ],
   "source": [
    "d_statistic, p_value=stats.normaltest(group_B)\n",
    "if p_value <= 0.05:\n",
    "    print('Отклоняем H0, данные распределены не нормально')\n",
    "else:\n",
    "    print('Не отклоняем H0, данные распределены нормально')"
   ]
  },
  {
   "cell_type": "code",
   "execution_count": 501,
   "metadata": {},
   "outputs": [
    {
     "name": "stdout",
     "output_type": "stream",
     "text": [
      "Отклоняем H0, данные распределены ненормально\n"
     ]
    }
   ],
   "source": [
    "d_statistic, p_value=stats.normaltest(group_A)\n",
    "if p_value <= 0.05:\n",
    "    print('Отклоняем H0, данные распределены ненормально')\n",
    "else:\n",
    "    print('Не отклоняем H0, данные распределены нормально')"
   ]
  },
  {
   "cell_type": "markdown",
   "metadata": {},
   "source": [
    "Проверим нормальность распределения через одновыборочный тест Колмогорова-Смирнова"
   ]
  },
  {
   "cell_type": "code",
   "execution_count": 502,
   "metadata": {},
   "outputs": [
    {
     "name": "stdout",
     "output_type": "stream",
     "text": [
      "Статистика теста: 0.22045934591129768\n",
      "P-значение: 0.0008253553713573273\n",
      "Отвергаем нулевую гипотезу: данные распределены ненормально.\n"
     ]
    }
   ],
   "source": [
    "d_statistic, p_value = stats.kstest(group_A, 'norm', args=(np.mean(group_A), np.std(group_A)))\n",
    "\n",
    "print(f\"Статистика теста: {d_statistic}\")\n",
    "print(f\"P-значение: {p_value}\")\n",
    "\n",
    "# Интерпретация результата\n",
    "alpha = 0.05  # уровень значимости\n",
    "if p_value < alpha:\n",
    "    print(\"Отвергаем нулевую гипотезу: данные распределены ненормально.\")\n",
    "else:\n",
    "    print(\"Не отвергаем нулевую гипотезу: данные распределены нормально.\")"
   ]
  },
  {
   "cell_type": "code",
   "execution_count": 503,
   "metadata": {},
   "outputs": [
    {
     "name": "stdout",
     "output_type": "stream",
     "text": [
      "Статистика теста: 0.255831089729082\n",
      "P-значение: 1.5019596338138588e-18\n",
      "Отвергаем нулевую гипотезу: данные распределены ненормально.\n"
     ]
    }
   ],
   "source": [
    "d_statistic, p_value = stats.kstest(group_B, 'norm', args=(np.mean(group_B), np.std(group_B)))\n",
    "\n",
    "print(f\"Статистика теста: {d_statistic}\")\n",
    "print(f\"P-значение: {p_value}\")\n",
    "\n",
    "# Интерпретация результата\n",
    "alpha = 0.05  # уровень значимости\n",
    "if p_value < alpha:\n",
    "    print(\"Отвергаем нулевую гипотезу: данные распределены ненормально.\")\n",
    "else:\n",
    "    print(\"Не отвергаем нулевую гипотезу: данные распределены нормально.\")"
   ]
  },
  {
   "cell_type": "markdown",
   "metadata": {},
   "source": [
    "Посмотрим распределение доходов по группам "
   ]
  },
  {
   "cell_type": "code",
   "execution_count": 504,
   "metadata": {},
   "outputs": [
    {
     "data": {
      "image/png": "[encoded data removed]",
      "text/plain": [
       "<Figure size 720x720 with 1 Axes>"
      ]
     },
     "metadata": {
      "needs_background": "light"
     },
     "output_type": "display_data"
    }
   ],
   "source": [
    "fig, axes=plt.subplots(figsize=(10,10))\n",
    "sns.histplot(data=df_active_users_in_group[df_active_users_in_group['status']=='active'],x='rev',hue='grp',bins=20)\n",
    "plt.title(\"РАСПРЕДЕЛЕНИЕ ПО ГРУППАМ\",fontsize=20)\n",
    "plt.xlabel(\"доход\",fontsize=18)\n",
    "plt.ylabel(\"количество пользователей\",fontsize=18);"
   ]
  },
  {
   "cell_type": "markdown",
   "metadata": {},
   "source": [
    "**Выведем отдельно гистограммы по распределению доходов в группах**"
   ]
  },
  {
   "cell_type": "markdown",
   "metadata": {},
   "source": [
    "Группа B"
   ]
  },
  {
   "cell_type": "code",
   "execution_count": 505,
   "metadata": {},
   "outputs": [
    {
     "data": {
      "image/png": "[encoded data removed]",
      "text/plain": [
       "<Figure size 432x288 with 1 Axes>"
      ]
     },
     "metadata": {
      "needs_background": "light"
     },
     "output_type": "display_data"
    }
   ],
   "source": [
    "sns.histplot(group_B);"
   ]
  },
  {
   "cell_type": "markdown",
   "metadata": {},
   "source": [
    "Группа A"
   ]
  },
  {
   "cell_type": "code",
   "execution_count": 506,
   "metadata": {},
   "outputs": [
    {
     "data": {
      "image/png": "[encoded data removed]",
      "text/plain": [
       "<Figure size 432x288 with 1 Axes>"
      ]
     },
     "metadata": {
      "needs_background": "light"
     },
     "output_type": "display_data"
    }
   ],
   "source": [
    "sns.histplot(group_A);"
   ]
  },
  {
   "cell_type": "code",
   "execution_count": 507,
   "metadata": {},
   "outputs": [
    {
     "data": {
      "image/png": "[encoded data removed]",
      "text/plain": [
       "<Figure size 432x288 with 1 Axes>"
      ]
     },
     "metadata": {
      "needs_background": "light"
     },
     "output_type": "display_data"
    }
   ],
   "source": [
    "sns.kdeplot(group_B,fill=True,linewidth=3,clip=(0, None))\n",
    "plt.xlim(0, None)\n",
    "plt.show()\n"
   ]
  },
  {
   "cell_type": "code",
   "execution_count": 508,
   "metadata": {},
   "outputs": [
    {
     "data": {
      "image/png": "[encoded data removed]",
      "text/plain": [
       "<Figure size 432x288 with 1 Axes>"
      ]
     },
     "metadata": {
      "needs_background": "light"
     },
     "output_type": "display_data"
    }
   ],
   "source": [
    "sns.kdeplot(group_A,fill=True,linewidth=3,clip=(0, None))\n",
    "plt.xlim(0, None)\n",
    "plt.show()\n"
   ]
  },
  {
   "cell_type": "markdown",
   "metadata": {},
   "source": [
    "# Доходы в группах A и B распределены не нормально"
   ]
  },
  {
   "cell_type": "markdown",
   "metadata": {},
   "source": [
    "## Проверяем гипотезу на то, что в группах  доходы распределены не одинакого "
   ]
  },
  {
   "cell_type": "markdown",
   "metadata": {},
   "source": [
    "### Сравнение доходов через тест Колмогорова-Смирнова (Проверим, отличаются ли распределения двух выборок)"
   ]
  },
  {
   "cell_type": "code",
   "execution_count": 509,
   "metadata": {},
   "outputs": [
    {
     "name": "stdout",
     "output_type": "stream",
     "text": [
      "Статистика КС: 0.322233144916851\n",
      "P-значение: 2.674108057654223e-06\n",
      "Можно отклонить нулевую гипотезу — между группами скорее всего есть статистически значимая разница.\n"
     ]
    }
   ],
   "source": [
    "ks_statistic, p_value = stats.ks_2samp(group_A, group_B)\n",
    "\n",
    "# Вывод результатов\n",
    "print(f\"Статистика КС: {ks_statistic}\")\n",
    "print(f\"P-значение: {p_value}\")\n",
    "alpha = 0.05\n",
    "if p_value < alpha:\n",
    "    print(\"Можно отклонить нулевую гипотезу — между группами скорее всего есть статистически значимая разница.\")\n",
    "else:\n",
    "    print(\"Нет оснований отклонять нулевую гипотезу — между группами скорее всего нет статистически значимой разницы.\")"
   ]
  },
  {
   "cell_type": "markdown",
   "metadata": {},
   "source": [
    "### Мы получаем, что скорее всего есть статистически значимая разница в распределении доходов между группами"
   ]
  },
  {
   "cell_type": "code",
   "execution_count": 511,
   "metadata": {},
   "outputs": [
    {
     "name": "stdout",
     "output_type": "stream",
     "text": [
      "Тест Левене: статистика = 3.0559, p-value = 0.0812\n",
      "Не отвергаем нулевую гипотезу: дисперсии равны\n"
     ]
    }
   ],
   "source": [
    "# Проверка равенства дисперсий с помощью теста Левене\n",
    "levene_test = stats.levene(df_active_users_in_group[(df_active_users_in_group['grp']=='A')& (df_active_users_in_group['rev'].isna()==False)]['rev']\\\n",
    "                           ,df_active_users_in_group[(df_active_users_in_group['grp']=='B')& (df_active_users_in_group['rev'].isna()==False)]['rev'])\n",
    "print('Тест Левене: статистика = {:.4f}, p-value = {:.4f}'.format(levene_test.statistic, levene_test.pvalue))\n",
    "\n",
    "# Интерпретация результата\n",
    "alpha = 0.05\n",
    "if levene_test.pvalue > alpha:\n",
    "    print(\"Не отвергаем нулевую гипотезу: дисперсии равны\")\n",
    "else:\n",
    "    print(\"Отвергаем нулевую гипотезу: дисперсии не равны\")"
   ]
  },
  {
   "cell_type": "markdown",
   "metadata": {},
   "source": [
    "**Поскольку тест Колмогорова-Смирнова указывает на различие в распределениях, это может означать, что, хотя дисперсии равны, одна из выборок может иметь другое среднее значение или другую форму распределения (например, скошенность или наличие выбросов).**"
   ]
  },
  {
   "cell_type": "markdown",
   "metadata": {},
   "source": [
    "## Проверяем гипотезу на то, что нет зависимости между группой и оплатой для активных пользователей, т.е. сравниваем CR_to_pay\n"
   ]
  },
  {
   "cell_type": "markdown",
   "metadata": {},
   "source": [
    "Хи-квадрат тест (Chi-squared test):\n",
    "\n",
    "- Применяется для сравнения двух категориальных переменных.\n",
    "- Проверяет, существует ли статистически значимая зависимость между группой и оплатой.\n",
    "- Предполагает большой объём выборки."
   ]
  },
  {
   "cell_type": "code",
   "execution_count": 512,
   "metadata": {},
   "outputs": [],
   "source": [
    "df_active_users_in_group['pay']=np.where(df_active_users_in_group['rev'].isna()==True,0,1)"
   ]
  },
  {
   "cell_type": "code",
   "execution_count": 513,
   "metadata": {},
   "outputs": [],
   "source": [
    "contingency_table_pay=pd.crosstab(df_active_users_in_group['grp'], df_active_users_in_group['pay'])"
   ]
  },
  {
   "cell_type": "code",
   "execution_count": 514,
   "metadata": {},
   "outputs": [
    {
     "data": {
      "text/html": [
       "<div>\n",
       "<style scoped>\n",
       "    .dataframe tbody tr th:only-of-type {\n",
       "        vertical-align: middle;\n",
       "    }\n",
       "\n",
       "    .dataframe tbody tr th {\n",
       "        vertical-align: top;\n",
       "    }\n",
       "\n",
       "    .dataframe thead th {\n",
       "        text-align: right;\n",
       "    }\n",
       "</style>\n",
       "<table border=\"1\" class=\"dataframe\">\n",
       "  <thead>\n",
       "    <tr style=\"text-align: right;\">\n",
       "      <th>pay</th>\n",
       "      <th>0</th>\n",
       "      <th>1</th>\n",
       "    </tr>\n",
       "    <tr>\n",
       "      <th>grp</th>\n",
       "      <th></th>\n",
       "      <th></th>\n",
       "    </tr>\n",
       "  </thead>\n",
       "  <tbody>\n",
       "    <tr>\n",
       "      <th>A</th>\n",
       "      <td>1457</td>\n",
       "      <td>78</td>\n",
       "    </tr>\n",
       "    <tr>\n",
       "      <th>B</th>\n",
       "      <td>6480</td>\n",
       "      <td>313</td>\n",
       "    </tr>\n",
       "  </tbody>\n",
       "</table>\n",
       "</div>"
      ],
      "text/plain": [
       "pay     0    1\n",
       "grp           \n",
       "A    1457   78\n",
       "B    6480  313"
      ]
     },
     "execution_count": 514,
     "metadata": {},
     "output_type": "execute_result"
    }
   ],
   "source": [
    "contingency_table_pay"
   ]
  },
  {
   "cell_type": "markdown",
   "metadata": {},
   "source": [
    "- Нулевая гипотеза (H0): Нет различий в конверсии покупок между тестовой и контрольной группами.\n",
    "\n",
    "- Альтернативная гипотеза (H1): Существует разница в конверсии покупок между тестовой и контрольной группами."
   ]
  },
  {
   "cell_type": "code",
   "execution_count": 515,
   "metadata": {},
   "outputs": [
    {
     "name": "stdout",
     "output_type": "stream",
     "text": [
      "Хи-квадрат статистика: 0.526607176998989\n",
      "P-значение: 0.46803677583199144\n",
      "Степени свободы: 1\n",
      "Ожидаемые частоты: [[1462.93167627   72.06832373]\n",
      " [6474.06832373  318.93167627]]\n",
      "Не отвергаем нулевую гипотезу: То есть, скорее всего, разницы не существует.\n"
     ]
    }
   ],
   "source": [
    "chi2_statistic, p_value, dof, expected = stats.chi2_contingency(contingency_table_pay)\n",
    "\n",
    "print(f\"Хи-квадрат статистика: {chi2_statistic}\")\n",
    "print(f\"P-значение: {p_value}\")\n",
    "print(f\"Степени свободы: {dof}\")\n",
    "print(f\"Ожидаемые частоты: {expected}\")\n",
    "\n",
    "# Интерпретация результата\n",
    "alpha = 0.05  # уровень значимости\n",
    "if p_value < alpha:\n",
    "    print(\"Отвергаем нулевую гипотезу: разница вряд ли объясняется случайностью. То есть, скорее всего, разница действительно существует.\")\n",
    "else:\n",
    "    print(\"Не отвергаем нулевую гипотезу: То есть, скорее всего, разницы не существует.\")"
   ]
  },
  {
   "cell_type": "markdown",
   "metadata": {},
   "source": [
    "### Не отвергаем нулевую гипотезу: То есть, скорее всего, разницы не существует в группах по метрике CR_to_pay"
   ]
  },
  {
   "cell_type": "markdown",
   "metadata": {},
   "source": [
    "## ARPU - средний доход с клиента\n",
    "\n",
    "    Нулевая гипотеза (H0): Нет разницы в показателе ARPU между тестовой и контрольной группой.\n",
    "    Альтернативная гипотеза (H1): Есть разница в значении ARPU между тестовой и контрольной группой."
   ]
  },
  {
   "cell_type": "code",
   "execution_count": 516,
   "metadata": {},
   "outputs": [
    {
     "name": "stdout",
     "output_type": "stream",
     "text": [
      "Наблюдаемая разница ARPU: -10.4248\n",
      "p-value: 0.7147\n",
      "Различия в ARPU между группами не статистически значимы.\n"
     ]
    },
    {
     "data": {
      "image/png": "[encoded data removed]",
      "text/plain": [
       "<Figure size 432x288 with 1 Axes>"
      ]
     },
     "metadata": {
      "needs_background": "light"
     },
     "output_type": "display_data"
    }
   ],
   "source": [
    "# Функция для бутстрап-выборки\n",
    "def calculate_arpu(group):\n",
    "    return group['rev'].sum() / group['id'].nunique()\n",
    "\n",
    "# Наблюдаемая разница ARPU\n",
    "group_A = df_active_users_in_group.query('grp == \"A\"')\n",
    "group_B = df_active_users_in_group.query('grp == \"B\"')\n",
    "observed_diff = calculate_arpu(group_A) - calculate_arpu(group_B)\n",
    "\n",
    "# Бутстрап-тест\n",
    "n_iterations = 10000\n",
    "bootstrap_diffs = np.zeros(n_iterations)\n",
    "\n",
    "# Генерация бутстрап-выборок и расчет разницы ARPU\n",
    "np.random.seed(42)  # Для воспроизводимости результатов\n",
    "for i in range(n_iterations):\n",
    "    bootstrap_A = group_A.sample(n=len(group_A), replace=True, random_state=i)\n",
    "    bootstrap_B = group_B.sample(n=len(group_B), replace=True, random_state=i)\n",
    "\n",
    "    bootstrap_diffs[i] = calculate_arpu(bootstrap_A) - calculate_arpu(bootstrap_B)\n",
    "\n",
    "# Оценка p-value\n",
    "p_value = np.mean(np.abs(bootstrap_diffs) >= np.abs(observed_diff))\n",
    "\n",
    "# Вывод результатов\n",
    "print(f\"Наблюдаемая разница ARPU: {observed_diff:.4f}\")\n",
    "print(f\"p-value: {p_value:.4f}\")\n",
    "\n",
    "if p_value < 0.05:\n",
    "    print(\"Различия в ARPU между группами статистически значимы.\")\n",
    "else:\n",
    "    print(\"Различия в ARPU между группами не статистически значимы.\")\n",
    "\n",
    "# Визуализация распределения разностей ARPU\n",
    "plt.hist(bootstrap_diffs, bins=50, edgecolor='k')\n",
    "plt.axvline(observed_diff, color='r', linestyle='dashed', linewidth=2)\n",
    "plt.title('Распределение разниц ARPU')\n",
    "plt.xlabel('Разница ARPU')\n",
    "plt.ylabel('Частота')\n",
    "plt.show()"
   ]
  },
  {
   "cell_type": "markdown",
   "metadata": {},
   "source": [
    "## ARPPU - средний доход с платящего клиента\n",
    "\n",
    "    Нулевая гипотеза (H0): Нет разницы в показателе ARPPU между тестовой и контрольной группой.\n",
    "    Альтернативная гипотеза (H1): Есть разница в значении ARPPU между тестовой и контрольной группой."
   ]
  },
  {
   "cell_type": "code",
   "execution_count": 517,
   "metadata": {},
   "outputs": [
    {
     "name": "stdout",
     "output_type": "stream",
     "text": [
      "Наблюдаемая разница ARPPU: -322.2377\n",
      "p-value: 0.8285\n",
      "Различия в ARPPU между группами не статистически значимы.\n"
     ]
    },
    {
     "data": {
      "image/png": "[encoded data removed]",
      "text/plain": [
       "<Figure size 432x288 with 1 Axes>"
      ]
     },
     "metadata": {
      "needs_background": "light"
     },
     "output_type": "display_data"
    }
   ],
   "source": [
    "# Функция для бутстрап-выборки\n",
    "def calculate_arppu(group):\n",
    "    return group['rev'].sum() / group['id'].nunique()\n",
    "\n",
    "# Наблюдаемая разница ARPU\n",
    "group_A = df_active_users_in_group\\\n",
    "     [(df_active_users_in_group['grp']=='A')&(df_active_users_in_group['rev'].isna()==False)]\n",
    "group_B = df_active_users_in_group\\\n",
    "     [(df_active_users_in_group['grp']=='B')&(df_active_users_in_group['rev'].isna()==False)]\n",
    "\n",
    "observed_diff = calculate_arppu(group_A) - calculate_arppu(group_B)\n",
    "\n",
    "# Бутстрап-тест\n",
    "n_iterations = 10000\n",
    "bootstrap_diffs = np.zeros(n_iterations)\n",
    "\n",
    "# Генерация бутстрап-выборок и расчет разницы ARPU\n",
    "np.random.seed(42)  # Для воспроизводимости результатов\n",
    "for i in range(n_iterations):\n",
    "    bootstrap_A = group_A.sample(n=len(group_A), replace=True, random_state=i)\n",
    "    bootstrap_B = group_B.sample(n=len(group_B), replace=True, random_state=i)\n",
    "\n",
    "    bootstrap_diffs[i] = calculate_arppu(bootstrap_A) - calculate_arppu(bootstrap_B)\n",
    "\n",
    "# Оценка p-value\n",
    "p_value = np.mean(np.abs(bootstrap_diffs) >= np.abs(observed_diff))\n",
    "\n",
    "# Вывод результатов\n",
    "print(f\"Наблюдаемая разница ARPPU: {observed_diff:.4f}\")\n",
    "print(f\"p-value: {p_value:.4f}\")\n",
    "\n",
    "if p_value < 0.05:\n",
    "    print(\"Различия в ARPPU между группами статистически значимы.\")\n",
    "else:\n",
    "    print(\"Различия в ARPPU между группами не статистически значимы.\")\n",
    "\n",
    "# Визуализация распределения разностей ARPU\n",
    "plt.hist(bootstrap_diffs, bins=50, edgecolor='k')\n",
    "plt.axvline(observed_diff, color='r', linestyle='dashed', linewidth=2)\n",
    "plt.title('Распределение разниц ARPPU')\n",
    "plt.xlabel('Разница ARPPU')\n",
    "plt.ylabel('Частота')\n",
    "plt.show()"
   ]
  },
  {
   "cell_type": "markdown",
   "metadata": {},
   "source": [
    "## Выведем метрики перед подведением итогов"
   ]
  },
  {
   "cell_type": "code",
   "execution_count": 518,
   "metadata": {},
   "outputs": [
    {
     "name": "stdout",
     "output_type": "stream",
     "text": [
      "Отношение количества активных/не активных пользователей:\n",
      "А= 10.462817803830687, B= 11.357062845869628\n",
      "\n",
      "ARPU\n",
      "ARPU_A= 47.43973941368078, ARPU_B= 57.86456698071545\n",
      "\n",
      "ARPPU\n",
      "ARPPU_A= 933.5897435897435, ARPPU_B= 1255.8274872204472\n",
      "\n",
      "CR\n",
      "cr_to_pay\n",
      "cr_to_pay_A= 5.081433224755701, cr_to_pay_B= 4.607684380980421\n",
      "\n",
      "Описательная Статистика группы А по доходам\n",
      "count      78.000000\n",
      "mean      933.589744\n",
      "std       919.932711\n",
      "min       199.000000\n",
      "25%       290.000000\n",
      "50%       585.000000\n",
      "75%      1114.750000\n",
      "max      3660.000000\n",
      "Name: rev, dtype: float64\n",
      "\n",
      "Описательная Статистика группы B по доходам\n",
      "count     313.000000\n",
      "mean     1255.827487\n",
      "std       791.293377\n",
      "min       199.000000\n",
      "25%       489.000000\n",
      "50%      1140.000000\n",
      "75%      1900.000000\n",
      "max      4650.000000\n",
      "Name: rev, dtype: float64\n"
     ]
    }
   ],
   "source": [
    "print('Отношение количества активных/не активных пользователей:')\n",
    "print(f'А= {percent_active_a}, B= {percent_active_b}')\n",
    "print('')\n",
    "print(\"ARPU\")\n",
    "print(f'ARPU_A= {arpu_A}, ARPU_B= {arpu_B}')\n",
    "print('')\n",
    "print(\"ARPPU\")\n",
    "print(f'ARPPU_A= {arppu_A}, ARPPU_B= {arppu_B}')\n",
    "print('')\n",
    "print('CR')\n",
    "print('cr_to_pay')\n",
    "print(f'cr_to_pay_A= {cr_to_pay_A}, cr_to_pay_B= {cr_to_pay_B}')\n",
    "print('')\n",
    "\n",
    "print('Описательная Статистика группы А по доходам')\n",
    "print(df_active_users_in_group[(df_active_users_in_group['grp']=='A')&(df_active_users_in_group['status']=='active')]['rev'].\\\n",
    "                                                                                                                describe())\n",
    "print('')\n",
    "print('Описательная Статистика группы B по доходам')\n",
    "print(df_active_users_in_group[(df_active_users_in_group['grp']=='B')&(df_active_users_in_group['status']=='active')]['rev'].\\\n",
    "                                                                                                                describe())"
   ]
  },
  {
   "cell_type": "markdown",
   "metadata": {},
   "source": [
    "## ВЫВОДЫ:\n",
    "\n",
    "    1.ARPU у группы B выше, однако статстически значимой разницы тест bootstrap не показал\n",
    "    2.ARPPU у группы B выше, однако статстически значимой разницы тест bootstrap не показал\n",
    "    4.CR\n",
    "        4.1 cr_to_pay -Конверсия пользователей в платящих так же у группы \"B\" меньше, однако статистический тест показывает,что новая система оплаты услуг не оказала значительного влияния на снижение конверсии при оплате. \n",
    "    5.Статистически значимая разница в распределении доходов между группами есть, однако дисперсии скорее всего равны.\n",
    "    6.Исходя из анализа статистических показателей активных пользователей, мы видим, что:\n",
    "        6.1 В группе B среднее значение доходов Выше, чем в группе А (А_mean=933.58,B_mean=1255.82)\n",
    "        6.2 В группе B стандартное отклонение в доходах меньше, чем в группе А (А_std=919.93,B_std=791.29)\n",
    "        6.3 Анализируя распределение доходов по квартилям мы видим, что в группе B более высокие значения доходов по квартилям\n",
    "        \n",
    "## ИТОГ:\n",
    "\n",
    "**Внедрение новой системы оплаты необходимо отложить, т.к.:\n",
    "1. Метрики CR_to_pay, ARPU и ARPPU не показали статистически значимых различий\n",
    "2. В данных явно есть баги, а именно :\n",
    "    - 2.1 149 пользователей попали в эксперимент,оплатили но не были активными, а значит не должны были попасть в данные\n",
    "    - 2.2 Различие в распределении доходов, а именно перекос в количестве оплат в районе 2000у.е. в группе B.\n",
    "    \n",
    "Предложение: Проврить, корректно ли сгенерированы выборки для тестирования и провести эксперимент снова."
   ]
  },
  {
   "cell_type": "markdown",
   "metadata": {},
   "source": [
    "**3.1 ЗАДАЧА.**\n",
    "\n",
    "   - Реализуйте функцию, которая будет автоматически подгружать информацию из дополнительного файла groups_add.csv (заголовки могут отличаться) и на основании дополнительных параметров пересчитывать метрики.\n",
    "   - Реализуйте функцию, которая будет строить графики по получаемым метрикам."
   ]
  },
  {
   "cell_type": "markdown",
   "metadata": {},
   "source": [
    "Присвоим переменной path_add_df путь к файлу с дополнительными данными"
   ]
  },
  {
   "cell_type": "code",
   "execution_count": 521,
   "metadata": {},
   "outputs": [],
   "source": [
    "path_add_df='Проект_2_group_add.csv'"
   ]
  },
  {
   "cell_type": "markdown",
   "metadata": {},
   "source": [
    "Напишем функцию, которая выявит несоответствие в наименованиях заголовков колонок и переименнует их \n",
    "в соответствии со стандартом. Т.к. мы не знаем, как будут наименоваться колонки, но знаем, что они должны содержать, то проверка происходит по содержимому и в соответствии с содержимым назначается новое наименование."
   ]
  },
  {
   "cell_type": "code",
   "execution_count": 522,
   "metadata": {},
   "outputs": [],
   "source": [
    "def rename_columns(add_df):\n",
    "    group=['A','B']\n",
    "    x={}\n",
    "    for i in add_df.columns:\n",
    "        #проверяем, что в колонке только 2 значения и колонка называется не grp\n",
    "        if len(add_df[i].unique())==2 and i!='grp':\n",
    "            #Проверяем, соответствуют ли уникальные значения тем, что в эталонном списке group\n",
    "            if list(add_df[i].unique())[0] in group and list(add_df[i].unique())[1] in group:\n",
    "                x[i]='grp'\n",
    "        if add_df[i].dtype==int and i!='id':\n",
    "            x[i]='id'\n",
    "    #Переименовываем колонки в соответствии с выявленными несоответствиями\n",
    "    add_df.rename(columns=x,inplace=True)\n",
    "    return add_df     "
   ]
  },
  {
   "cell_type": "markdown",
   "metadata": {},
   "source": [
    "### функция которая будет автоматически подгружать информацию из дополнительного файла groups_add.csv (заголовки могут отличаться) и на основании дополнительных параметров пересчитывать метрики."
   ]
  },
  {
   "cell_type": "markdown",
   "metadata": {},
   "source": [
    "Напишем функцию, которая будет:\n",
    "1. загружать новые данные\n",
    "2. проверять их на соответствие количества колонок \n",
    "3. запускать функцию для переименования колонок\n",
    "4. пересчитывать и возвращать метрики"
   ]
  },
  {
   "cell_type": "code",
   "execution_count": 526,
   "metadata": {},
   "outputs": [],
   "source": [
    "def load_and_update_df(groups,path_add_df):\n",
    "    add_df=pd.read_csv(path_add_df)\n",
    "    try:\n",
    "        if add_df.shape[1]!=2:\n",
    "            raise ValueError(f\"Ошибка: количество колонок должно быть 2, а их {add_df.shape[1]}.\")\n",
    "    except ValueError as e:\n",
    "            print(e)  # Выводим сообщение об ошибке\n",
    "            sys.exit(1)\n",
    "    else:    \n",
    "            rename_columns(add_df) \n",
    "            groups=pd.concat([groups,add_df])                 \n",
    "            groups=groups.drop_duplicates(subset='id')\n",
    "            df_users_in_group=groups.merge(active_studs, on='id', how='outer', indicator=True)\n",
    "            df_active_users_in_group=df_users_in_group[df_users_in_group['_merge']!='right_only']\n",
    "            df_active_users_in_group=df_active_users_in_group.rename(columns={'_merge':'status'})\n",
    "            df_active_users_in_group['status']=np.where(df_active_users_in_group['status']=='left_only','no_active','active')\n",
    "            df_active_users_in_group=df_active_users_in_group.merge(checks,on='id',how='left')\n",
    "            df_active_users_in_group=df_active_users_in_group[df_active_users_in_group['status']=='active']\n",
    "            # Метрики:           \n",
    "            #ARPU\n",
    "            #ARPPU\n",
    "            #cr в оплату\n",
    "           \n",
    "\n",
    "            arpu_A=df_active_users_in_group[df_active_users_in_group['grp']=='A']['rev'].sum()\\\n",
    "          /len(df_active_users_in_group[df_active_users_in_group['grp']=='A'])\n",
    "            arpu_B=df_active_users_in_group[df_active_users_in_group['grp']=='B']['rev'].sum()\\\n",
    "          /len(df_active_users_in_group[df_active_users_in_group['grp']=='B'])\n",
    "\n",
    "\n",
    "            arppu_A=df_active_users_in_group[(df_active_users_in_group['grp']=='A')&(df_active_users_in_group['rev'].isna()==False)]['rev'].sum()\\\n",
    "          /len(df_active_users_in_group[(df_active_users_in_group['grp']=='A')&(df_active_users_in_group['rev'].isna()==False)])\n",
    "            arppu_B=df_active_users_in_group[(df_active_users_in_group['grp']=='B')&(df_active_users_in_group['rev'].isna()==False)]['rev'].sum()\\\n",
    "          /len(df_active_users_in_group[(df_active_users_in_group['grp']=='B')&(df_active_users_in_group['rev'].isna()==False)])\n",
    "\n",
    "           \n",
    "            cr_to_pay_A=(len(df_active_users_in_group[(df_active_users_in_group['grp']=='A')&\\\n",
    "                                          (df_active_users_in_group['rev'].isna()==False)])\\\n",
    "             /len(df_active_users_in_group[(df_active_users_in_group['grp']=='A')]))*100\n",
    "            \n",
    "            cr_to_pay_B==(len(df_active_users_in_group[(df_active_users_in_group['grp']=='B')&\\\n",
    "                                          (df_active_users_in_group['rev'].isna()==False)])\\\n",
    "             /len(df_active_users_in_group[(df_active_users_in_group['grp']=='B')]))*100\n",
    "          \n",
    "           \n",
    "            describe_A=df_active_users_in_group[df_active_users_in_group['grp']=='A']['rev'].\\\n",
    "            describe().to_frame()\n",
    "            describe_B=df_active_users_in_group[df_active_users_in_group['grp']=='B']['rev'].\\\n",
    "            describe().to_frame()\n",
    "            return  arpu_A,arpu_B,arppu_A,arppu_B,cr_to_pay_A,cr_to_pay_B,describe_A,describe_B,df_active_users_in_group"
   ]
  },
  {
   "cell_type": "markdown",
   "metadata": {},
   "source": [
    "### Напишем функцию, которая будет присваивать метрикам соответствующие значения из функции по пересчёту метрик и выводить их в print"
   ]
  },
  {
   "cell_type": "code",
   "execution_count": 527,
   "metadata": {},
   "outputs": [],
   "source": [
    "def new_metrics(groups,path_add_df):\n",
    "    #ARPU\n",
    "    #ARPPU\n",
    "    #ARPAU\n",
    "    #cr в оплату\n",
    "    #cr в активных\n",
    "    #cr активных в оплату\n",
    "    #describe\n",
    "    \n",
    "    arpu_A,arpu_B,arppu_A,arppu_B,cr_to_pay_A,cr_to_pay_B,describe_A,describe_B,df_active_users_in_group=\\\n",
    "                    load_and_update_df(groups,path_add_df)\n",
    "    print('')\n",
    "    print(\"ARPU\")\n",
    "    print(f'ARPU_A= {arpu_A}, ARPU_B= {arpu_B}')\n",
    "    print('')\n",
    "    print(\"ARPPU\")\n",
    "    print(f'arppu_A= {arppu_A}, arppu_B= {arppu_B}')\n",
    "    print('')\n",
    "    print('CR')\n",
    "    print('cr_to_pay')\n",
    "    print(f'cr_to_pay_A= {cr_to_pay_A}, cr_to_pay_B= {cr_to_pay_B}')\n",
    "    print('')\n",
    "    print('Описательная Статистика group_A по доходам')\n",
    "    print(describe_A)\n",
    "    print('')\n",
    "    print('Описательная Статистика group_B по доходам')\n",
    "    print(describe_B)"
   ]
  },
  {
   "cell_type": "code",
   "execution_count": 528,
   "metadata": {},
   "outputs": [
    {
     "name": "stdout",
     "output_type": "stream",
     "text": [
      "\n",
      "ARPU\n",
      "ARPU_A= 47.34720416124838, ARPU_B= 58.058798103777754\n",
      "\n",
      "ARPPU\n",
      "arppu_A= 933.5897435897435, arppu_B= 1257.8789920382164\n",
      "\n",
      "CR\n",
      "cr_to_pay\n",
      "cr_to_pay_A= 5.071521456436931, cr_to_pay_B= 4.607684380980421\n",
      "\n",
      "Описательная Статистика group_A по доходам\n",
      "               rev\n",
      "count    78.000000\n",
      "mean    933.589744\n",
      "std     919.932711\n",
      "min     199.000000\n",
      "25%     290.000000\n",
      "50%     585.000000\n",
      "75%    1114.750000\n",
      "max    3660.000000\n",
      "\n",
      "Описательная Статистика group_B по доходам\n",
      "               rev\n",
      "count   314.000000\n",
      "mean   1257.878992\n",
      "std     790.864254\n",
      "min     199.000000\n",
      "25%     511.750000\n",
      "50%    1140.000000\n",
      "75%    1900.000000\n",
      "max    4650.000000\n"
     ]
    }
   ],
   "source": [
    "new_metrics(groups,path_add_df)"
   ]
  },
  {
   "cell_type": "markdown",
   "metadata": {},
   "source": [
    "### Реализуйте функцию, которая будет строить графики по получаемым метрикам."
   ]
  },
  {
   "cell_type": "code",
   "execution_count": 544,
   "metadata": {},
   "outputs": [],
   "source": [
    "def new_grafics(groups,path_add_df):\n",
    "    arpu_A,arpu_B,arppu_A,arppu_B,cr_to_pay_A,cr_to_pay_B,describe_A,describe_B,df_active_users_in_group=load_and_update_df(groups,path_add_df)\n",
    "    \n",
    "   \n",
    "    fig, axes = plt.subplots(1,2, figsize=(10, 4))\n",
    "    sns.barplot(x='grp', y='arpu', data=pd.DataFrame([['arpu_A',arpu_A],['arpu_B',arpu_B]], columns=['grp', 'arpu']),ax=axes[0])\n",
    "    axes[0].set_title('ARPU', fontsize=16)\n",
    "    sns.barplot(x='grp', y='arppu', data=pd.DataFrame([['arppu_A',arppu_A],['arppu_B',arppu_B]], columns=['grp', 'arppu']),ax=axes[1])\n",
    "    axes[1].set_title('ARPPU', fontsize=16)\n",
    "\n",
    "    fig, axes = plt.subplots(figsize=(10, 4))\n",
    "    sns.barplot(x='grp', y='cr_pay', data=pd.DataFrame([['cr_pay_A',cr_to_pay_A],['cr_pay_B',cr_to_pay_B]], columns=['grp', 'cr_pay']))\n",
    "    plt.title('cr_pay', fontsize=16)\n",
    "\n",
    "\n",
    "    group_A = df_active_users_in_group[df_active_users_in_group['grp'] == 'A']['rev'].dropna()\n",
    "    group_B = df_active_users_in_group[df_active_users_in_group['grp'] == 'B']['rev'].dropna()\n",
    "\n",
    "    fig, axes = plt.subplots(1,2, figsize=(10, 4))\n",
    "    sns.histplot(group_A,ax=axes[0])\n",
    "    axes[0].set_title('REVENUE', fontsize=16)\n",
    "    sns.histplot(group_B,ax=axes[1])\n",
    "    axes[1].set_title('REVENUE', fontsize=16);"
   ]
  },
  {
   "cell_type": "code",
   "execution_count": 545,
   "metadata": {},
   "outputs": [
    {
     "data": {
      "image/png": "[encoded data removed]",
      "text/plain": [
       "<Figure size 720x288 with 2 Axes>"
      ]
     },
     "metadata": {
      "needs_background": "light"
     },
     "output_type": "display_data"
    },
    {
     "data": {
      "image/png": "[encoded data removed]",
      "text/plain": [
       "<Figure size 720x288 with 1 Axes>"
      ]
     },
     "metadata": {
      "needs_background": "light"
     },
     "output_type": "display_data"
    },
    {
     "data": {
      "image/png": "[encoded data removed]",
      "text/plain": [
       "<Figure size 720x288 with 2 Axes>"
      ]
     },
     "metadata": {
      "needs_background": "light"
     },
     "output_type": "display_data"
    }
   ],
   "source": [
    "new_grafics(groups,path_add_df)"
   ]
  },
  {
   "cell_type": "markdown",
   "metadata": {},
   "source": [
    "# Задание 2. SQL\n",
    "\n",
    "### 2.1.2 Задача\n",
    "Необходимо написать оптимальный запрос, который даст информацию о количестве очень усердных студентов.NB! Под усердным студентом мы понимаем студента, который правильно решил 20 задач за текущий месяц."
   ]
  },
  {
   "cell_type": "markdown",
   "metadata": {},
   "source": [
    "### 1 задание (если бы в таблице период был бы несколько месяцев)\n",
    "\n",
    "select count(distinct(a.st_id)) as count_student_correct_20\n",
    "From (SELECT EXTRACT(year FROM timest) AS Год,\n",
    "       EXTRACT(month FROM timest) AS Месяц,\n",
    "       st_id,count(correct) as count_correct \n",
    "from peas\n",
    "where correct=true\n",
    "group by 1,2,3\n",
    "having count(correct)>=20) as a\n",
    "\n",
    "### или (т.к. в данных период 1 месяц)\n",
    "\n",
    "Select count(distinct(a.st_id))\n",
    "from (SELECT st_id,count(correct)\n",
    "from peas\n",
    "where correct=True\n",
    "group by st_id\n",
    "having count(correct)>=20\n",
    "order by st_id) as a\n"
   ]
  },
  {
   "cell_type": "markdown",
   "metadata": {},
   "source": [
    "### 2.2.2 Задача\n",
    "\n",
    "Необходимо в одном запросе выгрузить следующую информацию о группах пользователей:\n",
    "\n",
    "   - ARPU \n",
    "\n",
    "   - ARPAU \n",
    "\n",
    "   - CR в покупку\n",
    "\n",
    "   - СR активного пользователя в покупку \n",
    "\n",
    "   - CR пользователя из активности по математике (subject = ’math’) в покупку курса по математике\n",
    "\n",
    "ARPU считается относительно всех пользователей, попавших в группы.\n",
    "\n",
    "Активным считается пользователь, за все время решивший больше 10 задач правильно в любых дисциплинах.\n",
    "\n",
    "Активным по математике считается пользователь, за все время решивший 2 или больше задач правильно по математике."
   ]
  },
  {
   "cell_type": "markdown",
   "metadata": {},
   "source": [
    "with active as (select peas.st_id\n",
    "from peas\n",
    "where peas.correct=true\n",
    "group by peas.st_id\n",
    "having count(correct)>10)\n",
    "\n",
    "\n",
    "\n",
    "Select arpu.test_grp,arpu.count_all,arpu.arpu,arpau.arpau,arpau.count_pay_active::float/arpu.count_all*100 as cr_pay,arpau.count_pay_active::float/arpau.count_active_users*100 as cr_active_pay,\n",
    "math.CR_math as cr_math\n",
    "from(\n",
    "Select studs.test_grp,count(distinct(studs.st_id)) as count_all,sum(final_project_check.money) as sum_all,sum(final_project_check.money)/count(distinct(studs.st_id)) as arpu\n",
    "from studs\n",
    "left join final_project_check on final_project_check.st_id=studs.st_id\n",
    "group by studs.test_grp) as arpu\n",
    "\n",
    "join \n",
    "(select t1.test_grp,t2.count_pay_active,t1.count_active_users,t1.sum_active,t1.ARPAU\n",
    "from(\n",
    "select studs.test_grp,count(distinct(active.st_id)) as count_active_users,sum(final_project_check.money) as sum_active,sum(final_project_check.money)::float/count(distinct(active.st_id)) as ARPAU\n",
    "from studs\n",
    "left join final_project_check on final_project_check.st_id=studs.st_id\n",
    "right join active on active.st_id=studs.st_id\n",
    "group by studs.test_grp) as t1\n",
    "join (select studs.test_grp,count(distinct(studs.st_id)) as count_pay_active\n",
    "from studs\n",
    "left join final_project_check on final_project_check.st_id=studs.st_id\n",
    "right join active on active.st_id=studs.st_id \n",
    "where final_project_check.money is not null\n",
    "group by studs.test_grp) as t2 on t2.test_grp=t1.test_grp) as arpau on arpau.test_grp=arpu.test_grp\n",
    "\n",
    "join\n",
    "(Select studs.test_grp,count(distinct(math.st_id)) as count_math,count(sum_math) as count_math_pay,count(sum_math)::float/count(distinct(math.st_id))*100 as CR_math\n",
    "from (select peas.st_id,count(correct),sum(final_project_check.money) as sum_math\n",
    "from peas\n",
    "left join final_project_check on final_project_check.st_id=peas.st_id\n",
    "where peas.correct=true and peas.subject='Math'\n",
    "group by peas.st_id\n",
    "having count(correct)>=2) as math\n",
    "left join studs on studs.st_id=math.st_id\n",
    "group by studs.test_grp) as math on math.test_grp=arpu.test_grp\n"
   ]
  }
 ],
 "metadata": {
  "kernelspec": {
   "display_name": "Python 3",
   "language": "python",
   "name": "python3"
  },
  "language_info": {
   "codemirror_mode": {
    "name": "ipython",
    "version": 3
   },
   "file_extension": ".py",
   "mimetype": "text/x-python",
   "name": "python",
   "nbconvert_exporter": "python",
   "pygments_lexer": "ipython3",
   "version": "3.7.3"
  }
 },
 "nbformat": 4,
 "nbformat_minor": 4
}
